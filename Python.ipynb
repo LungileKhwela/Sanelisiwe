{
 "cells": [
  {
   "cell_type": "markdown",
   "id": "232dfb40-518c-4b1b-91fd-9a8468c944de",
   "metadata": {},
   "source": [
    "### Lists"
   ]
  },
  {
   "cell_type": "code",
   "execution_count": 1,
   "id": "b348b908-9d52-4893-a8d5-1251cfa15d60",
   "metadata": {},
   "outputs": [],
   "source": [
    "People = [\"Lushozi\",\"Chare\",\"Peter\"]"
   ]
  },
  {
   "cell_type": "code",
   "execution_count": 2,
   "id": "a2668283-e9fb-4b07-a060-2e6e5578eb25",
   "metadata": {},
   "outputs": [
    {
     "data": {
      "text/plain": [
       "['Lushozi', 'Chare', 'Peter']"
      ]
     },
     "execution_count": 2,
     "metadata": {},
     "output_type": "execute_result"
    }
   ],
   "source": [
    "People "
   ]
  },
  {
   "cell_type": "code",
   "execution_count": 3,
   "id": "0a5673f8-0e6e-4a0e-9e6f-3cf41a036097",
   "metadata": {},
   "outputs": [
    {
     "data": {
      "text/plain": [
       "'Lushozi'"
      ]
     },
     "execution_count": 3,
     "metadata": {},
     "output_type": "execute_result"
    }
   ],
   "source": [
    "People [0]"
   ]
  },
  {
   "cell_type": "code",
   "execution_count": 4,
   "id": "c4c13b1a-c678-4164-9385-0cacb4a88a46",
   "metadata": {},
   "outputs": [],
   "source": [
    "numbers = [6,7,8,7]"
   ]
  },
  {
   "cell_type": "code",
   "execution_count": 5,
   "id": "214f9159-ee55-497e-8e31-ffc476fb97c3",
   "metadata": {},
   "outputs": [
    {
     "data": {
      "text/plain": [
       "[6, 7, 8, 7]"
      ]
     },
     "execution_count": 5,
     "metadata": {},
     "output_type": "execute_result"
    }
   ],
   "source": [
    "numbers"
   ]
  },
  {
   "cell_type": "markdown",
   "id": "ba25519e-24e3-45e5-bc67-89ea544ca80b",
   "metadata": {},
   "source": [
    "### Tuple Data Type"
   ]
  },
  {
   "cell_type": "code",
   "execution_count": 6,
   "id": "a76d4e3d-5a7d-4849-9945-a8892d0f748b",
   "metadata": {},
   "outputs": [],
   "source": [
    "products = (\"TV\",\"Radiio\",\"Software\")"
   ]
  },
  {
   "cell_type": "code",
   "execution_count": 7,
   "id": "94a1ee02-a5e2-4953-b384-67bfda1840fb",
   "metadata": {},
   "outputs": [
    {
     "data": {
      "text/plain": [
       "('TV', 'Radiio', 'Software')"
      ]
     },
     "execution_count": 7,
     "metadata": {},
     "output_type": "execute_result"
    }
   ],
   "source": [
    "products"
   ]
  },
  {
   "cell_type": "code",
   "execution_count": 8,
   "id": "f1138942-b835-440c-b357-5adbf0bcc48d",
   "metadata": {},
   "outputs": [
    {
     "data": {
      "text/plain": [
       "'TV'"
      ]
     },
     "execution_count": 8,
     "metadata": {},
     "output_type": "execute_result"
    }
   ],
   "source": [
    "products[0]"
   ]
  },
  {
   "cell_type": "code",
   "execution_count": 9,
   "id": "1e377e90-d1ea-4105-8be4-f38094b76481",
   "metadata": {},
   "outputs": [
    {
     "data": {
      "text/plain": [
       "'Software'"
      ]
     },
     "execution_count": 9,
     "metadata": {},
     "output_type": "execute_result"
    }
   ],
   "source": [
    "products[2]"
   ]
  },
  {
   "cell_type": "markdown",
   "id": "0217dc4e-44b6-4efc-b58a-823fa7066696",
   "metadata": {},
   "source": [
    "### String Data Type"
   ]
  },
  {
   "cell_type": "code",
   "execution_count": 10,
   "id": "3929d19f-4c09-41e3-857c-5232b50b60ca",
   "metadata": {},
   "outputs": [],
   "source": [
    "name = 'Peter'"
   ]
  },
  {
   "cell_type": "code",
   "execution_count": 11,
   "id": "a69a0ed8-5480-43ce-8649-d7273ba2b915",
   "metadata": {},
   "outputs": [
    {
     "data": {
      "text/plain": [
       "'Peter'"
      ]
     },
     "execution_count": 11,
     "metadata": {},
     "output_type": "execute_result"
    }
   ],
   "source": [
    "name"
   ]
  },
  {
   "cell_type": "code",
   "execution_count": 12,
   "id": "e95578a4-8cc7-46e2-9b95-993f57b7a33b",
   "metadata": {},
   "outputs": [],
   "source": [
    "surname = \"Johns\""
   ]
  },
  {
   "cell_type": "code",
   "execution_count": 13,
   "id": "70a473af-2324-4278-b175-28dd7c04d58f",
   "metadata": {},
   "outputs": [
    {
     "data": {
      "text/plain": [
       "'Johns'"
      ]
     },
     "execution_count": 13,
     "metadata": {},
     "output_type": "execute_result"
    }
   ],
   "source": [
    "surname"
   ]
  },
  {
   "cell_type": "markdown",
   "id": "bffa3858-8775-4adf-bdb5-bdf5260744b4",
   "metadata": {},
   "source": [
    "### Set Data Type"
   ]
  },
  {
   "cell_type": "code",
   "execution_count": 14,
   "id": "505f7261-8565-42fe-a5d3-64ad155b479d",
   "metadata": {},
   "outputs": [],
   "source": [
    "myset = {5,6,8,9,10}"
   ]
  },
  {
   "cell_type": "code",
   "execution_count": 15,
   "id": "99f0dc8e-5d26-4bb7-9e47-81b0c5a716e3",
   "metadata": {},
   "outputs": [
    {
     "data": {
      "text/plain": [
       "{5, 6, 8, 9, 10}"
      ]
     },
     "execution_count": 15,
     "metadata": {},
     "output_type": "execute_result"
    }
   ],
   "source": [
    "myset"
   ]
  },
  {
   "cell_type": "code",
   "execution_count": 16,
   "id": "63af98bb-9e86-4f83-9d30-e689ded25aa5",
   "metadata": {},
   "outputs": [],
   "source": [
    "stringset = {'Peter','John','Allan'}"
   ]
  },
  {
   "cell_type": "code",
   "execution_count": 17,
   "id": "d692bfe8-8a35-46b2-94c7-c111f134fa5f",
   "metadata": {},
   "outputs": [
    {
     "data": {
      "text/plain": [
       "{'Allan', 'John', 'Peter'}"
      ]
     },
     "execution_count": 17,
     "metadata": {},
     "output_type": "execute_result"
    }
   ],
   "source": [
    "stringset"
   ]
  },
  {
   "cell_type": "markdown",
   "id": "8cb4f7f9-2b15-42b6-8e5c-dcadd81fabef",
   "metadata": {},
   "source": [
    "### Data Input/Output in Python"
   ]
  },
  {
   "cell_type": "markdown",
   "id": "b41472a9-fc5b-448c-bdb0-fbf13700ebb8",
   "metadata": {},
   "source": [
    "Age = input(\"Please enter your age: \")"
   ]
  },
  {
   "cell_type": "code",
   "execution_count": null,
   "id": "21f09fff-bd4e-46ea-9fab-e152f7d2ee9e",
   "metadata": {},
   "outputs": [],
   "source": []
  },
  {
   "cell_type": "code",
   "execution_count": null,
   "id": "5044d165-d438-4d04-89a0-d7cf0258df3b",
   "metadata": {},
   "outputs": [],
   "source": []
  },
  {
   "cell_type": "code",
   "execution_count": 18,
   "id": "769bb99c-3b4e-4b10-83f7-210a40a048c3",
   "metadata": {},
   "outputs": [
    {
     "name": "stdin",
     "output_type": "stream",
     "text": [
      "Please enter name:  sne\n"
     ]
    }
   ],
   "source": [
    "Name = input(\"Please enter name: \")"
   ]
  },
  {
   "cell_type": "code",
   "execution_count": 19,
   "id": "9c6bfaf7-74a2-4104-8ff1-cf81ef39e524",
   "metadata": {},
   "outputs": [
    {
     "name": "stdout",
     "output_type": "stream",
     "text": [
      "sne\n"
     ]
    }
   ],
   "source": [
    "print(Name)"
   ]
  },
  {
   "cell_type": "code",
   "execution_count": 20,
   "id": "98cf54f5-9737-45d4-b0ea-f0684006f29b",
   "metadata": {},
   "outputs": [
    {
     "name": "stdout",
     "output_type": "stream",
     "text": [
      "Your name is :  sne\n"
     ]
    }
   ],
   "source": [
    "print(\"Your name is : \", Name)"
   ]
  },
  {
   "cell_type": "code",
   "execution_count": 21,
   "id": "f39015fd-e103-4b8d-b52c-8a2fcecd82a7",
   "metadata": {},
   "outputs": [
    {
     "name": "stdout",
     "output_type": "stream",
     "text": [
      "Your name is : sne\n"
     ]
    }
   ],
   "source": [
    "print(\"Your name is : \"+ Name)"
   ]
  },
  {
   "cell_type": "markdown",
   "id": "f433d53a-c90f-416a-be99-3de5372c7cc5",
   "metadata": {},
   "source": [
    "### Exercise 1"
   ]
  },
  {
   "cell_type": "markdown",
   "id": "4fb12e9e-3fee-49c2-9f92-b9ac3ef0e3d5",
   "metadata": {},
   "source": [
    "1. write a program to accept two integers from the input console and find thier product. Display the answer with a comment."
   ]
  },
  {
   "cell_type": "code",
   "execution_count": 22,
   "id": "9baba534-ec9b-4bb9-8502-4d25b679f278",
   "metadata": {},
   "outputs": [
    {
     "ename": "KeyboardInterrupt",
     "evalue": "Interrupted by user",
     "output_type": "error",
     "traceback": [
      "\u001b[1;31m---------------------------------------------------------------------------\u001b[0m",
      "\u001b[1;31mKeyboardInterrupt\u001b[0m                         Traceback (most recent call last)",
      "Cell \u001b[1;32mIn[22], line 1\u001b[0m\n\u001b[1;32m----> 1\u001b[0m Number1 \u001b[38;5;241m=\u001b[39m \u001b[38;5;28mint\u001b[39m(\u001b[38;5;28minput\u001b[39m(\u001b[38;5;124m\"\u001b[39m\u001b[38;5;124mEnter first integer:\u001b[39m\u001b[38;5;124m\"\u001b[39m))\n",
      "File \u001b[1;32m~\\OneDrive\\Documents\\Python Scripts\\Lib\\site-packages\\ipykernel\\kernelbase.py:1262\u001b[0m, in \u001b[0;36mKernel.raw_input\u001b[1;34m(self, prompt)\u001b[0m\n\u001b[0;32m   1260\u001b[0m     msg \u001b[38;5;241m=\u001b[39m \u001b[38;5;124m\"\u001b[39m\u001b[38;5;124mraw_input was called, but this frontend does not support input requests.\u001b[39m\u001b[38;5;124m\"\u001b[39m\n\u001b[0;32m   1261\u001b[0m     \u001b[38;5;28;01mraise\u001b[39;00m StdinNotImplementedError(msg)\n\u001b[1;32m-> 1262\u001b[0m \u001b[38;5;28;01mreturn\u001b[39;00m \u001b[38;5;28mself\u001b[39m\u001b[38;5;241m.\u001b[39m_input_request(\n\u001b[0;32m   1263\u001b[0m     \u001b[38;5;28mstr\u001b[39m(prompt),\n\u001b[0;32m   1264\u001b[0m     \u001b[38;5;28mself\u001b[39m\u001b[38;5;241m.\u001b[39m_parent_ident[\u001b[38;5;124m\"\u001b[39m\u001b[38;5;124mshell\u001b[39m\u001b[38;5;124m\"\u001b[39m],\n\u001b[0;32m   1265\u001b[0m     \u001b[38;5;28mself\u001b[39m\u001b[38;5;241m.\u001b[39mget_parent(\u001b[38;5;124m\"\u001b[39m\u001b[38;5;124mshell\u001b[39m\u001b[38;5;124m\"\u001b[39m),\n\u001b[0;32m   1266\u001b[0m     password\u001b[38;5;241m=\u001b[39m\u001b[38;5;28;01mFalse\u001b[39;00m,\n\u001b[0;32m   1267\u001b[0m )\n",
      "File \u001b[1;32m~\\OneDrive\\Documents\\Python Scripts\\Lib\\site-packages\\ipykernel\\kernelbase.py:1305\u001b[0m, in \u001b[0;36mKernel._input_request\u001b[1;34m(self, prompt, ident, parent, password)\u001b[0m\n\u001b[0;32m   1302\u001b[0m \u001b[38;5;28;01mexcept\u001b[39;00m \u001b[38;5;167;01mKeyboardInterrupt\u001b[39;00m:\n\u001b[0;32m   1303\u001b[0m     \u001b[38;5;66;03m# re-raise KeyboardInterrupt, to truncate traceback\u001b[39;00m\n\u001b[0;32m   1304\u001b[0m     msg \u001b[38;5;241m=\u001b[39m \u001b[38;5;124m\"\u001b[39m\u001b[38;5;124mInterrupted by user\u001b[39m\u001b[38;5;124m\"\u001b[39m\n\u001b[1;32m-> 1305\u001b[0m     \u001b[38;5;28;01mraise\u001b[39;00m \u001b[38;5;167;01mKeyboardInterrupt\u001b[39;00m(msg) \u001b[38;5;28;01mfrom\u001b[39;00m \u001b[38;5;28;01mNone\u001b[39;00m\n\u001b[0;32m   1306\u001b[0m \u001b[38;5;28;01mexcept\u001b[39;00m \u001b[38;5;167;01mException\u001b[39;00m:\n\u001b[0;32m   1307\u001b[0m     \u001b[38;5;28mself\u001b[39m\u001b[38;5;241m.\u001b[39mlog\u001b[38;5;241m.\u001b[39mwarning(\u001b[38;5;124m\"\u001b[39m\u001b[38;5;124mInvalid Message:\u001b[39m\u001b[38;5;124m\"\u001b[39m, exc_info\u001b[38;5;241m=\u001b[39m\u001b[38;5;28;01mTrue\u001b[39;00m)\n",
      "\u001b[1;31mKeyboardInterrupt\u001b[0m: Interrupted by user"
     ]
    }
   ],
   "source": [
    "Number1 = int(input(\"Enter first integer:\"))"
   ]
  },
  {
   "cell_type": "code",
   "execution_count": null,
   "id": "7ec51d81-6a40-4ba0-a0b2-d08653328803",
   "metadata": {},
   "outputs": [],
   "source": [
    "Number2 = int(input(\"Enter second interger:\"))"
   ]
  },
  {
   "cell_type": "code",
   "execution_count": null,
   "id": "5f16e7de-6e96-44b3-aae4-5d10e0625cb9",
   "metadata": {},
   "outputs": [],
   "source": [
    "print(\" The product ot the two integers is: \", Number1* Number2)"
   ]
  },
  {
   "cell_type": "markdown",
   "id": "fe0b8103-cf74-4499-b363-f5a84c298331",
   "metadata": {},
   "source": [
    "#### 2. Write a simple program to accept the sides of a triangle and calculate the area of a triangle"
   ]
  },
  {
   "cell_type": "markdown",
   "id": "0a3e5961-79da-4c84-977e-bf8e8175e6ee",
   "metadata": {},
   "source": [
    "Formula Hint Area = 1/2Base*Height"
   ]
  },
  {
   "cell_type": "code",
   "execution_count": null,
   "id": "ebd5b0f5-8058-4b80-a575-7c57c96a253e",
   "metadata": {},
   "outputs": [],
   "source": [
    "# Accept the Base and Height\n",
    "Base = float(input(\" Enter the base of the triangle\"))\n",
    "Height = float(input(\" Ener the height of the triangle\"))\n",
    "\n",
    "#calculate the area of the triangle\n",
    "area =0.5 * Base * Height\n",
    "\n",
    "#Display the result\n",
    "print(\"The area of the triangle with base and height is: \", area)\n"
   ]
  },
  {
   "cell_type": "code",
   "execution_count": null,
   "id": "2effc8e2-a8c0-4432-a91c-82f8d76653c9",
   "metadata": {},
   "outputs": [],
   "source": []
  },
  {
   "cell_type": "markdown",
   "id": "9a6e841a-18ef-4438-b39d-9228864b743e",
   "metadata": {},
   "source": [
    "### 3. Write a program that prompt the user to enter two values a and b and swap the variables. The value in variable a should be put variable b and the value in variable b be put in variable a. Display the swapped varriables"
   ]
  },
  {
   "cell_type": "code",
   "execution_count": null,
   "id": "462fa078-0b15-4caa-a3d0-f266b2298629",
   "metadata": {},
   "outputs": [],
   "source": [
    "a = int(input(\"Enter firtst value\"))\n",
    "b = int(input(\"Enter second value\"))"
   ]
  },
  {
   "cell_type": "code",
   "execution_count": null,
   "id": "1f51772a-d8c3-42d8-842b-320e652b3d76",
   "metadata": {},
   "outputs": [],
   "source": [
    "c = a\n",
    "a = b\n",
    "b = c\n",
    "print(a)\n",
    "print(b)"
   ]
  },
  {
   "cell_type": "markdown",
   "id": "e70b104f-887b-4aca-965d-48492b2d687d",
   "metadata": {},
   "source": [
    "### 4. Write a program to calculate the perimeter of a rectangle."
   ]
  },
  {
   "cell_type": "code",
   "execution_count": null,
   "id": "ee3210d0-ddf1-4ea7-b33c-74037c4008de",
   "metadata": {},
   "outputs": [],
   "source": [
    "a = int(input(\"enter the length:\"))\n",
    "b = int(input(\"enter the width:\"))\n",
    "p = (2*a) + (2*b)\n",
    "print(\"Perimeter is :\",p)"
   ]
  },
  {
   "cell_type": "markdown",
   "id": "6d656aee-9a30-4052-9f43-a9c588eecb7d",
   "metadata": {},
   "source": [
    "### 5. Write a program to accept the name and age of a person. Display the person's entered details in one print statement."
   ]
  },
  {
   "cell_type": "code",
   "execution_count": null,
   "id": "dec2821d-15ef-48d4-9de6-85222725c369",
   "metadata": {},
   "outputs": [],
   "source": [
    "######e.g name is Peter and age is 30\n",
    "name = input(\"Enter the name\")\n",
    "age = int(input(\"Enter the age\"))\n",
    "print(\"Your name is\",name,\"and your age is\",age)"
   ]
  },
  {
   "cell_type": "markdown",
   "id": "a336b985-1361-414a-85f8-c996e62dc632",
   "metadata": {},
   "source": [
    "## Arithmetic Practice Questions"
   ]
  },
  {
   "cell_type": "markdown",
   "id": "96d3270d-2e2b-470b-8b2e-7339facd0c3a",
   "metadata": {},
   "source": [
    "#### 1. How many seconds are in a 42 minutes and 42 seconds?"
   ]
  },
  {
   "cell_type": "code",
   "execution_count": null,
   "id": "98d099cd-c7fc-4cd2-8e53-e33e89009b8f",
   "metadata": {},
   "outputs": [],
   "source": [
    "## Set variables\n",
    "seconds = 42\n",
    "minutes = 42\n",
    "print (\"Total seconds \",60*42+42)"
   ]
  },
  {
   "cell_type": "markdown",
   "id": "59d27e13-8e15-4170-98a9-42ae963a58ba",
   "metadata": {},
   "source": [
    "#### 2. How many miles are there in 100 kilometers?\n",
    "#### Hint: 1mile = 1.61KM"
   ]
  },
  {
   "cell_type": "code",
   "execution_count": null,
   "id": "d047ca38-ce65-402c-b8b9-773db1ceb5c1",
   "metadata": {},
   "outputs": [],
   "source": [
    "mile = 1.61\n",
    "kilometers =100\n",
    "\n",
    "total_miles = kilometers/mile\n",
    "print(total_miles)"
   ]
  },
  {
   "cell_type": "markdown",
   "id": "439541cc-0b02-4e0d-9ce8-80d38849d056",
   "metadata": {},
   "source": [
    "#### 3. if you run a 10 KM race in 42 minutes 42 seconds, what is your average pace in seconds per mile?"
   ]
  },
  {
   "cell_type": "code",
   "execution_count": null,
   "id": "2c913212-fa58-415c-8504-a938226edadf",
   "metadata": {},
   "outputs": [],
   "source": [
    "miles = 10/1.61\n",
    "seconds = 42*60+42\n",
    "print(\"Pace in seconds per mile is\", seconds/miles)"
   ]
  },
  {
   "cell_type": "markdown",
   "id": "fcb9bee3-6a79-4e19-90b6-bf7d95eca12b",
   "metadata": {},
   "source": [
    "#### 4. What is your average pace in minutes and seconds per mile?"
   ]
  },
  {
   "cell_type": "code",
   "execution_count": null,
   "id": "f3f6322f-d72d-43cb-8b1d-608a96a72902",
   "metadata": {},
   "outputs": [],
   "source": [
    "minutes =(42*60+42)/60\n",
    "average_minutes = minutes/miles\n",
    "average_seconds =0.8747*60\n",
    "print(\"Average pace in minutes per mile is \", int(average_minutes),\"minutes and\", int(average_seconds),\"seconds\")"
   ]
  },
  {
   "cell_type": "markdown",
   "id": "b27461b5-64a0-4c8d-997c-4e1376585679",
   "metadata": {},
   "source": [
    "#### 5. What is your average speed in miles per hour?"
   ]
  },
  {
   "cell_type": "code",
   "execution_count": null,
   "id": "228a7685-ff7d-4710-8c37-2e6c4b76a26f",
   "metadata": {},
   "outputs": [],
   "source": [
    "speed = (10/1.61)/(minutes/60)\n",
    "print(\"The speed in miles per hour is\",speed)"
   ]
  },
  {
   "cell_type": "markdown",
   "id": "449ed9c4-2624-4348-b155-bd4f6f78c1ff",
   "metadata": {},
   "source": [
    "#### 6. Accept two integers and determine the larger of the two numbers."
   ]
  },
  {
   "cell_type": "code",
   "execution_count": null,
   "id": "2e8b2096-ae39-4099-bf3e-e33c014b4a00",
   "metadata": {},
   "outputs": [],
   "source": [
    "num1 = int(input(\"Enter first number\"))\n",
    "num2 = int(input(\"Enter second numer\"))\n",
    "if (num1 > num2):\n",
    "          print(num1,\"is larger\")\n",
    "else: print(num2, \"is larger\")"
   ]
  },
  {
   "cell_type": "code",
   "execution_count": null,
   "id": "48e94039-4ece-4c60-a225-3dc349445153",
   "metadata": {},
   "outputs": [],
   "source": [
    "p = int(input(\"Enter Principal amount\"))\n",
    "r = float(input(\"Enter interest rate\"))\n",
    "n = int(input(\"Enter number of times\"))\n",
    "t = int(input(\"Enter time the money invested\"))\n",
    "print(\"The amount of money accumulated after n years A=\",p*(1+(r/n))**n*t)"
   ]
  },
  {
   "cell_type": "markdown",
   "id": "86f81a13-4e04-47e9-8535-eeba69882dd5",
   "metadata": {},
   "source": [
    "## IF Statement in Python"
   ]
  },
  {
   "cell_type": "code",
   "execution_count": null,
   "id": "ea1a0978-c9fe-47f8-8f29-db533236799a",
   "metadata": {},
   "outputs": [],
   "source": [
    "#if <condition>:\n",
    "#    <action(s)>\n",
    "a = 8\n",
    "b = 6\n",
    "if a > b:\n",
    "    print(\"a is larger than b\")\n",
    "    print(\"b is smaller than a\")"
   ]
  },
  {
   "cell_type": "markdown",
   "id": "9de545ec-af37-436b-ba2a-42d0bc2144b1",
   "metadata": {},
   "source": [
    "### IF-ELSE Statement in Python"
   ]
  },
  {
   "cell_type": "code",
   "execution_count": null,
   "id": "ebaac474-3ec4-4c92-88f2-f70aac98e304",
   "metadata": {},
   "outputs": [],
   "source": [
    "# if <condition>:\n",
    "#     <action(s)>\n",
    "#   else:\n",
    "#     <action(s)>\n",
    "a = 9\n",
    "b =12\n",
    "if a > b:\n",
    "    print(\"a is larger than b\")\n",
    "else:\n",
    "    print(\"I an not sure, test again\")"
   ]
  },
  {
   "cell_type": "markdown",
   "id": "9a33aba7-c2c6-486f-ac44-f176a4056c07",
   "metadata": {},
   "source": [
    "### IF -ELSE-IF Statement in Python"
   ]
  },
  {
   "cell_type": "code",
   "execution_count": null,
   "id": "112e7a18-7900-42fb-a050-5c5e00e3512a",
   "metadata": {},
   "outputs": [],
   "source": [
    "#if <cindition>:\n",
    "#   <action(s)>\n",
    "#elif <condition>:\n",
    "#    <action(s)>\n",
    "#else:\n",
    "#    <actions(s)>\n",
    "a = 5\n",
    "b = 5\n",
    "if a > b:\n",
    "    print(\"a is larger than b\")\n",
    "elif b < a:\n",
    "    print(\"b is largernthan a\")\n",
    "elif a == b:\n",
    "    print(\"a and b are equal\")"
   ]
  },
  {
   "cell_type": "markdown",
   "id": "1ba92ffe-9bdc-4cac-ac9b-36f788b04d3b",
   "metadata": {},
   "source": [
    "Given a students score in an exam , grade the student according to Distinction, Credit, Pass and Fail.\n",
    "\n",
    "Distinction = 75-100, Credit =60-74, Pass =50-59 and Fail = 0-49"
   ]
  },
  {
   "cell_type": "code",
   "execution_count": null,
   "id": "b481480a-d246-433b-87e8-a6715a61ac85",
   "metadata": {},
   "outputs": [],
   "source": [
    "#Accepting the mark as input\n",
    "mark = int(input(\"What did the student score\"))\n",
    "if mark >= 75 and mark <=100:\n",
    "    print(\"Distinction\")\n",
    "elif mark >= 60 and mark <=74:\n",
    "    print(\"Credit\")\n",
    "elif mark >=50 and mark <=59:\n",
    "    print(\"Pass\")\n",
    "elif mark >=0 and mark <=49:\n",
    "    print(\"Student Failed\")\n",
    "else:\n",
    "    print(\"Invalid Mark\")"
   ]
  },
  {
   "cell_type": "markdown",
   "id": "5b88cc0e-e9d7-487a-99ca-dc1552bdbdce",
   "metadata": {},
   "source": [
    "### 1. Only the citizens who are 18 years old and above are eligible to vote in an election. write a program to vet a voter based on ther age."
   ]
  },
  {
   "cell_type": "code",
   "execution_count": null,
   "id": "6745b8eb-8a6f-41fa-bc55-a6536f03e1f1",
   "metadata": {},
   "outputs": [],
   "source": [
    "# Accepting the citizen age\n",
    "age = int(input(\"Enter the age of the voter\"))\n",
    "if age >= 18:\n",
    "   print (\"eligible to vote\")\n",
    "else:\n",
    "   print (\"not eligible to vote\")\n"
   ]
  },
  {
   "cell_type": "markdown",
   "id": "9f9ba3d4-3f42-41ec-bb76-b07ef372f823",
   "metadata": {},
   "source": [
    "#### 2. Write a program to accept an integer and determine whether the entered number is even or odd."
   ]
  },
  {
   "cell_type": "code",
   "execution_count": null,
   "id": "ba1d8c31-2736-4916-aaf1-ac2ce0b7be44",
   "metadata": {},
   "outputs": [],
   "source": [
    "num = int(input(\"Enter the even or odd number\"))\n",
    "if num%2==0:\n",
    "    print(\"even number\")\n",
    "elif num%2!=0:\n",
    "    print(\"Odd number\")"
   ]
  },
  {
   "cell_type": "markdown",
   "id": "b5957b3d-335e-4370-9538-7f4fc3112a6f",
   "metadata": {},
   "source": [
    "#### 3. Accept 3 sides of a triangle a,b and c. Detertimine whether the triangle is Equilateral (All sides equal), Isosceles(2 sides equal)or Obtuse (All side not equal)"
   ]
  },
  {
   "cell_type": "code",
   "execution_count": null,
   "id": "0a14015f-8557-4805-b904-7036a73095e5",
   "metadata": {},
   "outputs": [],
   "source": [
    "### Accept 3 sides of a triangle\n",
    "a= int(input(\"Enter side A\"))\n",
    "b = int(input(\"Enter side B\"))\n",
    "c = int(input(\"Enter side C\"))\n",
    "if a==b==c:\n",
    "    print(\"Equilateral triangle\")\n",
    "elif a==b or a==c or b==c:\n",
    "    print(\"Isosceles\")\n",
    "else: print (\"obtuse triangle\")"
   ]
  },
  {
   "cell_type": "markdown",
   "id": "1e6fedbd-caf3-4f61-bfea-97e4fe8f57bc",
   "metadata": {},
   "source": [
    "### Repetitive Srtuctures in Python (Iteration/Loops)"
   ]
  },
  {
   "cell_type": "markdown",
   "id": "eef86432-76cd-4836-ac57-b9201e075aeb",
   "metadata": {},
   "source": [
    "#### The While Loop"
   ]
  },
  {
   "cell_type": "code",
   "execution_count": null,
   "id": "6402143f-8f32-43c6-947d-37247fdee4d6",
   "metadata": {},
   "outputs": [],
   "source": [
    "while <condition>:\n",
    "    <action>\n",
    "    <increment condition variable>"
   ]
  },
  {
   "cell_type": "code",
   "execution_count": null,
   "id": "cf04b620-a8c5-4981-b52c-93d85e7a6729",
   "metadata": {},
   "outputs": [],
   "source": [
    "X = 0\n",
    "while X < 5:\n",
    "    print (X)\n",
    "    X+=3"
   ]
  },
  {
   "cell_type": "markdown",
   "id": "0a1022af-3064-43ce-a692-13b0ee39289e",
   "metadata": {},
   "source": [
    "### The For Loop"
   ]
  },
  {
   "cell_type": "code",
   "execution_count": null,
   "id": "7b48c887-c8d6-432a-bc73-f0a9c36bbf94",
   "metadata": {},
   "outputs": [],
   "source": [
    "for <control variable> in <data structure>:\n",
    "<action(s)>"
   ]
  },
  {
   "cell_type": "code",
   "execution_count": null,
   "id": "bf96c3f7-4742-4302-9d84-f8404a56c10f",
   "metadata": {},
   "outputs": [],
   "source": [
    "name = \"Sipho\"\n",
    "for x in name:\n",
    "    print(x)"
   ]
  },
  {
   "cell_type": "code",
   "execution_count": null,
   "id": "8e43a451-1c37-4054-9e5c-9ee0a276e81e",
   "metadata": {},
   "outputs": [],
   "source": [
    "names =[\"Siphop\",\"Alex\",\"Mlondi\",\"Peter\"]\n",
    "for x in names:\n",
    "    if x == \"Alex\":\n",
    "        print(x)"
   ]
  },
  {
   "cell_type": "code",
   "execution_count": null,
   "id": "a128dba5-6fc6-4dde-bb97-a7571b5dc05b",
   "metadata": {},
   "outputs": [],
   "source": [
    "## printing the 0dd numbers between 1 and 100 (Use the while loop)\n",
    "x = 1\n",
    "while x <=100:\n",
    "    if x%2 == 1:\n",
    "        print(x, end=\" \")\n",
    "    x+=1"
   ]
  },
  {
   "cell_type": "code",
   "execution_count": null,
   "id": "8018a4a9-6bcc-4e3d-8368-61064898b57f",
   "metadata": {},
   "outputs": [],
   "source": [
    "for i in range (5,100):\n",
    "    if i%2== 1:\n",
    "        print(i, end= \" \")"
   ]
  },
  {
   "cell_type": "code",
   "execution_count": null,
   "id": "7ec247c0-0664-457f-9d44-20c8fbe0c3e6",
   "metadata": {},
   "outputs": [],
   "source": [
    "#range(initialvalue, finalvalue, increamentor)\n",
    "range(1,10,2)"
   ]
  },
  {
   "cell_type": "code",
   "execution_count": null,
   "id": "c2b9f969-bf6e-4e9b-a531-ddbb17739099",
   "metadata": {},
   "outputs": [],
   "source": [
    "i=0\n",
    "while i<=100:\n",
    "    print(i, end=\" \")\n",
    "    i=i+1"
   ]
  },
  {
   "cell_type": "markdown",
   "id": "ecc76995-3f4e-4bcd-848a-8b4a233be19a",
   "metadata": {},
   "source": [
    "### calculate the sum of all integers from q to any given number\n",
    "\n",
    "e.g Given 5, add 1+2+3+4+5"
   ]
  },
  {
   "cell_type": "code",
   "execution_count": null,
   "id": "68cc9c20-8716-4dce-8fd5-f3abf9067638",
   "metadata": {},
   "outputs": [],
   "source": [
    "num = int(input(\"Enter the number:\"))\n",
    "sum =0\n",
    "for i in range(1, num+1):\n",
    "    sum = sum+i\n",
    "print(\"The sum of the values from 1 to the entered number is\", sum)"
   ]
  },
  {
   "cell_type": "markdown",
   "id": "dee2df02-0208-4a17-94e4-b7a652f60383",
   "metadata": {},
   "source": [
    "# 17.10.24"
   ]
  },
  {
   "cell_type": "markdown",
   "id": "9def3618-48d6-4e43-81df-563f056904d6",
   "metadata": {},
   "source": [
    "#### Write a Python program to count the total  number of digit in a number. (Use while loop)"
   ]
  },
  {
   "cell_type": "code",
   "execution_count": null,
   "id": "87d830aa-291e-4c56-863c-83bc961a5f86",
   "metadata": {},
   "outputs": [],
   "source": [
    "number = int(input(\"Enter the number\"))\n",
    "count = 0\n",
    "if number ==0:\n",
    "   count=1\n",
    "else:\n",
    "   while number !=0:\n",
    "      number = number//10\n",
    "      count +=1\n",
    "print(count)"
   ]
  },
  {
   "cell_type": "markdown",
   "id": "2b62f2fa-8c54-4479-b135-07313a65c845",
   "metadata": {},
   "source": [
    "### Write a program to create a list and print the list in reverse order."
   ]
  },
  {
   "cell_type": "code",
   "execution_count": null,
   "id": "9e97e773-8ad8-4cb1-aae0-0c63b79fb0a1",
   "metadata": {},
   "outputs": [],
   "source": [
    "name = 'Lungelo','Lungile','Anele'\n",
    "revname = reversed(name)\n",
    "print(list(revname))"
   ]
  },
  {
   "cell_type": "markdown",
   "id": "144ff19e-2355-4cb5-b5a6-31f0d658c766",
   "metadata": {},
   "source": [
    "#### Write a Python program to display the following number pattern. \n",
    "\n",
    "hint: Use 2 for loops, one for rowws and the other taking care of the printing.)"
   ]
  },
  {
   "cell_type": "code",
   "execution_count": null,
   "id": "2ef5e7f9-fbf7-4745-a270-0dbdf309f7fc",
   "metadata": {},
   "outputs": [],
   "source": [
    "for p in range (1,5+1):\n",
    " for i in range (1,p+1):\n",
    "    print (i, end=\" \")\n",
    " print()"
   ]
  },
  {
   "cell_type": "markdown",
   "id": "f7d5f7c7-97e0-46bc-a6ea-28d9040b5405",
   "metadata": {},
   "source": [
    "#### Write a Python program to ctreate a tuple with different data types"
   ]
  },
  {
   "cell_type": "code",
   "execution_count": null,
   "id": "5c9e5e09-e4df-4baf-97e0-947cfa877b5c",
   "metadata": {},
   "outputs": [],
   "source": [
    "Mytuple = (\"Sanelisiwe\", 20,0.23, True)\n",
    "print(Mytuple)"
   ]
  },
  {
   "cell_type": "markdown",
   "id": "bd63e7bb-dfaa-4a3d-a3a8-20e80992cf5b",
   "metadata": {},
   "source": [
    "####  Write a Python programe to unpack a tuple into several variables."
   ]
  },
  {
   "cell_type": "code",
   "execution_count": null,
   "id": "fd9a4cfa-7324-4b29-a35e-4fc97f050821",
   "metadata": {},
   "outputs": [],
   "source": [
    "name = 'Sanelisiwe'\n",
    "age = 25\n",
    "level =7\n",
    "tuple = (name, age, level)\n",
    "print(tuple)"
   ]
  },
  {
   "cell_type": "markdown",
   "id": "1e2d352a-83cc-45e2-8251-533f5956ef10",
   "metadata": {},
   "source": [
    "##### An empty set and prrint its data type"
   ]
  },
  {
   "cell_type": "code",
   "execution_count": null,
   "id": "d354b305-6046-48b5-9724-f965e323806d",
   "metadata": {},
   "outputs": [],
   "source": [
    "empytset={\" \"}\n",
    "print(type(empytset,))"
   ]
  },
  {
   "cell_type": "code",
   "execution_count": null,
   "id": "859aaa4f-db1e-4490-bf07-ea719aa1ccd0",
   "metadata": {},
   "outputs": [],
   "source": [
    "nonemptyset={\"Quella\"}\n",
    "print(type(nonemptyset))"
   ]
  },
  {
   "cell_type": "markdown",
   "id": "4558713c-c48a-4e36-92bb-a4489ef64b32",
   "metadata": {},
   "source": [
    "### Given a range(start and end), write a program to print all prime numbers in that rage."
   ]
  },
  {
   "cell_type": "code",
   "execution_count": null,
   "id": "9616601b-49bc-4c59-abce-65f6ce588e0d",
   "metadata": {},
   "outputs": [],
   "source": [
    "start = int(input(\"Enter the initial value:\"))\n",
    "end = int(input(\"Enter the final value:\"))\n",
    "for num in range"
   ]
  },
  {
   "cell_type": "markdown",
   "id": "4f1bba43-44e8-4427-918f-f518a98be6bb",
   "metadata": {},
   "source": [
    "#### Write a program to display intergers from -100 to -5"
   ]
  },
  {
   "cell_type": "code",
   "execution_count": null,
   "id": "5da101a9-3b17-4d07-91e4-bd76667d574c",
   "metadata": {},
   "outputs": [],
   "source": [
    "for i in  range(-100,-5--1):\n",
    " print(i, end=\" \")"
   ]
  },
  {
   "cell_type": "markdown",
   "id": "68afede3-4dbf-48c8-b2d6-63a80e002a81",
   "metadata": {},
   "source": [
    "## .10.2024: Repetitive Structures"
   ]
  },
  {
   "cell_type": "code",
   "execution_count": null,
   "id": "66c2e94f-2bc6-4d60-b69c-dda4f84ed090",
   "metadata": {},
   "outputs": [],
   "source": [
    "num= [2,6,9,15,20,25]\n",
    "odd_count = 0\n",
    "even_count = 0\n",
    "for r in num:\n",
    "   if r%2 == 0:\n",
    "      even_count +=1\n",
    "   else:\n",
    "      odd_count +=1\n",
    "print (\"even_number\", even_count , \"and odd number\",odd_count)"
   ]
  },
  {
   "cell_type": "markdown",
   "id": "7ea75641-edb7-4a59-9bd7-6d01c804942c",
   "metadata": {},
   "source": [
    "### 2 Write a Python program to accept a word and display the reversed version of the word."
   ]
  },
  {
   "cell_type": "code",
   "execution_count": null,
   "id": "bc576aed-7f65-4f91-9d3d-06641b357b10",
   "metadata": {},
   "outputs": [],
   "source": [
    "name= input(\"Enter a word:\")\n",
    "for i in name[::-1]:\n",
    "    print (i, end=\" \")"
   ]
  },
  {
   "cell_type": "markdown",
   "id": "2072baab-ff7b-48c4-b5bf-65cb9dc343d4",
   "metadata": {},
   "source": [
    "### 3 A Palindrome is a word that reads the same forwards and backwards. e.g madam, rotator. Write a python program to accept a word and check whether or not the word is apalindrome."
   ]
  },
  {
   "cell_type": "code",
   "execution_count": null,
   "id": "9ec65985-a359-4e05-b468-8c8fe5413090",
   "metadata": {},
   "outputs": [],
   "source": [
    "word = (input(\"Enter a word\"))\n",
    "if word == word[::-1]:\n",
    "    print(word,\"is a Palindrone\")\n",
    "else:\n",
    "        print(word,\" is not Palindrome\")"
   ]
  },
  {
   "cell_type": "markdown",
   "id": "c26f286e-4c82-477a-88bc-76757e09167b",
   "metadata": {},
   "source": [
    "### 4 The factorial of a number is the multiplication of all the numbers betweem 1 and the number itself. write a python program to accept a number and calculate the factorial of the number. e.g Fctorial of 5 is 5 x 4 x 3 x 2 x 1 = 120"
   ]
  },
  {
   "cell_type": "code",
   "execution_count": null,
   "id": "9aca4925-05cf-4619-ac25-3cd624c63d7e",
   "metadata": {},
   "outputs": [],
   "source": [
    "number = int(input(\"Enter number:\"))\n",
    "count = 1\n",
    "for i in range(1,number+1):\n",
    "    count*=i\n",
    "print(f\"the factorial of {number}\", count)"
   ]
  },
  {
   "cell_type": "code",
   "execution_count": null,
   "id": "4c15be5f-1d74-4f96-8917-645aa3a8889a",
   "metadata": {},
   "outputs": [],
   "source": []
  },
  {
   "cell_type": "markdown",
   "id": "fff43f78-7940-4cff-be49-a8eac3c8217d",
   "metadata": {},
   "source": [
    "## Functions in Python"
   ]
  },
  {
   "cell_type": "code",
   "execution_count": null,
   "id": "c40c0b2f-8a11-4631-92ae-37a839202eb8",
   "metadata": {},
   "outputs": [],
   "source": [
    "def disp(n):\n",
    "    print(n)"
   ]
  },
  {
   "cell_type": "code",
   "execution_count": null,
   "id": "4af44177-ce69-47ec-be46-105909764b16",
   "metadata": {},
   "outputs": [],
   "source": [
    "name = 'Peter'\n",
    "disp(name)"
   ]
  },
  {
   "cell_type": "code",
   "execution_count": null,
   "id": "8e79dd08-2e32-4763-aac5-10c322dc77d1",
   "metadata": {},
   "outputs": [],
   "source": [
    "def modiv(a,b):\n",
    "          return a%b"
   ]
  },
  {
   "cell_type": "code",
   "execution_count": null,
   "id": "b6c098f8-ceaa-44d8-922c-42da7f196c82",
   "metadata": {},
   "outputs": [],
   "source": [
    "x = int(input(\"Enter first number\"))\n",
    "y = int(input(\"Enter second number\"))\n",
    "z = modiv(x,y)\n",
    "print(z)"
   ]
  },
  {
   "cell_type": "markdown",
   "id": "742cf4d0-247e-462c-87d3-e87e73663583",
   "metadata": {},
   "source": [
    "### Define a function to calculate the speed of a train that travelled from Durban to Johhanesburg."
   ]
  },
  {
   "cell_type": "code",
   "execution_count": null,
   "id": "cd218c95-7130-4cdb-ba6b-2b3831690729",
   "metadata": {},
   "outputs": [],
   "source": [
    "def speed(distance, time):\n",
    "    return distance/time\n",
    "d = float(input(\"Enter distance:\"))\n",
    "t = float(input(\"Enter time in hours:\"))\n",
    "print(\"The speed of the train was\",speed(d,t),\"km/hr\")"
   ]
  },
  {
   "cell_type": "markdown",
   "id": "47c9d72f-b9ef-480f-b272-42d2cfa6ae93",
   "metadata": {},
   "source": [
    "### 2. Using a function, write a program to calculate the final mark of a student given their final coursework and exam marks respectively."
   ]
  },
  {
   "cell_type": "code",
   "execution_count": null,
   "id": "e73d39f8-42b4-4049-a4d9-b91153804638",
   "metadata": {},
   "outputs": [],
   "source": [
    "def Fmark(coursework, exam):\n",
    "    return ((coursework+exam)/200*100)\n",
    "c = int(input(\"Enter a coursework\"))\n",
    "e = int(input(\"Enter an exam\"))\n",
    "print (Fmark(c,e))"
   ]
  },
  {
   "cell_type": "markdown",
   "id": "77eb2853-cc18-4379-8d56-afce3792f6ac",
   "metadata": {},
   "source": [
    "### 3. Using a Function , write a program to calculate the average of 10 students' marks."
   ]
  },
  {
   "cell_type": "code",
   "execution_count": null,
   "id": "e3f4e8e9-8b88-41f9-9ee4-0016d595165c",
   "metadata": {},
   "outputs": [],
   "source": [
    "def Average(StMarks):\n",
    "    return (StMarks/10)\n",
    "S = int(input(\"Enter the Student Marks\"))\n",
    "t = Average(S)\n",
    "print(\"Average of students\",t)"
   ]
  },
  {
   "cell_type": "markdown",
   "id": "2ee732bf-df08-49b2-b68b-7f8e1f31da5b",
   "metadata": {},
   "source": [
    "### .4 Using a function , write a program to find the facrorial of a given number."
   ]
  },
  {
   "cell_type": "code",
   "execution_count": null,
   "id": "7fe45c19-b8c2-495b-b1ce-9adb0dcc9c55",
   "metadata": {},
   "outputs": [],
   "source": [
    "def factorial(F):\n",
    "    if F==0:\n",
    "       return 1\n",
    "    else: \n",
    "        return F*factorial(F-1)\n",
    "numb= int(input(\"Enter the number\"))\n",
    "factorial(numb)"
   ]
  },
  {
   "cell_type": "markdown",
   "id": "badf047d-aa18-411b-96b7-7291109ff081",
   "metadata": {},
   "source": [
    "#### 5. Write a program to create a function that accepts two arguments, province and population, and display their values."
   ]
  },
  {
   "cell_type": "code",
   "execution_count": null,
   "id": "128386b9-290c-4d73-94f6-84af95849b5c",
   "metadata": {},
   "outputs": [],
   "source": [
    "def MyArgum(*arguments):\n",
    "     print(arguments)\n",
    "Argum1 = input(\"Enter the province\")\n",
    "Argum2 = int(input(\"Enter the population\"))\n",
    "print(\"MyArgum\", Argum1, Argum2)"
   ]
  },
  {
   "cell_type": "markdown",
   "id": "87944875-520d-4bf6-9de2-0c4de8dfc457",
   "metadata": {},
   "source": [
    "##### 6. Write a function to find the larger of two numbers."
   ]
  },
  {
   "cell_type": "code",
   "execution_count": null,
   "id": "81eb643b-5b6a-45de-912d-68be5a1caff9",
   "metadata": {},
   "outputs": [],
   "source": [
    "def LargNum(a,b):\n",
    "    return(a<b)\n",
    "Num1 = int(input(\"Enter the number\"))\n",
    "Num2 = int(input(\"Enter the number\"))\n",
    "print (LargNum(Num1, Num2))"
   ]
  },
  {
   "cell_type": "code",
   "execution_count": null,
   "id": "f01d5d39-9628-4d45-a699-2c103bfcc883",
   "metadata": {},
   "outputs": [],
   "source": [
    "def LargNum(a,b):\n",
    "    return (a>b)or(a<b)\n",
    "num1=int(input(\"Enter the number\"))\n",
    "num2=int(input(\"Enter the number\"))\n",
    "if (num1>num2):\n",
    "            print(num1,\"is larger\")\n",
    "else: print(num2,\"is larger\")"
   ]
  },
  {
   "cell_type": "markdown",
   "id": "ba978444-4276-4c2b-a55e-6f7ea643423a",
   "metadata": {},
   "source": [
    "### 7. Write a program with a function called find () to accept two integers and calculate their addition, substraction(first from second), multiplication and exponentiation (first to the power of the second)"
   ]
  },
  {
   "cell_type": "code",
   "execution_count": null,
   "id": "5c61cbbd-80a5-415b-9fb3-956e877e6f85",
   "metadata": {},
   "outputs": [],
   "source": []
  },
  {
   "cell_type": "markdown",
   "id": "7115f5ed-eb8a-4894-97ed-7c3e6d7f0511",
   "metadata": {},
   "source": [
    "#### 8. Write a function to calculate the sum of all numbers in a tuple."
   ]
  },
  {
   "cell_type": "code",
   "execution_count": null,
   "id": "b95ec347-785b-4da9-839b-4d6b1263d799",
   "metadata": {},
   "outputs": [],
   "source": [
    "def Sum():\n",
    "    return\n",
    "    "
   ]
  },
  {
   "cell_type": "markdown",
   "id": "c1ffca32-0697-4185-a821-32422ba10890",
   "metadata": {},
   "source": [
    "## Python Pandas"
   ]
  },
  {
   "cell_type": "markdown",
   "id": "d9397a58-45d0-4f70-8444-7f038e1030b3",
   "metadata": {},
   "source": [
    "### Pandas Series"
   ]
  },
  {
   "cell_type": "code",
   "execution_count": null,
   "id": "b8e2c3e6-c364-446a-b671-9c624002fe00",
   "metadata": {},
   "outputs": [],
   "source": [
    "import pandas as pd\n",
    "data=pd.Series([1,2,3,4,5,6,7], ['Sane','sthah','Yonela','Minoh','Mendy','Akhoh','Lungelo'])"
   ]
  },
  {
   "cell_type": "code",
   "execution_count": null,
   "id": "3ea6e240-211b-4882-a87e-f59b34c53166",
   "metadata": {},
   "outputs": [],
   "source": [
    "print(data)"
   ]
  },
  {
   "cell_type": "markdown",
   "id": "9b8ab918-b2eb-40fd-b6b0-3f47b3b904df",
   "metadata": {},
   "source": [
    "### Pandas DataFrame"
   ]
  },
  {
   "cell_type": "code",
   "execution_count": null,
   "id": "d146af08-120d-4c35-ae77-f697530d71f7",
   "metadata": {},
   "outputs": [],
   "source": [
    "import pandas as pd\n",
    "data = {'Student name':['peter','Yammy','Londiwe','Sandile'], 'Surname': ['Khwela','Ngcobo','Mchunu','Msomi'], 'Marks': [65,45,53,78]}"
   ]
  },
  {
   "cell_type": "code",
   "execution_count": null,
   "id": "5dbddc7c-0dd5-4499-828b-9855fd62c5b5",
   "metadata": {},
   "outputs": [],
   "source": [
    "df = pd.DataFrame(data)"
   ]
  },
  {
   "cell_type": "code",
   "execution_count": null,
   "id": "65012e5f-f6c0-45fb-8a32-da88d9544fa6",
   "metadata": {},
   "outputs": [],
   "source": [
    "df"
   ]
  },
  {
   "cell_type": "code",
   "execution_count": null,
   "id": "8b3fa28c-7621-4ab8-8e84-025a06b5425f",
   "metadata": {},
   "outputs": [],
   "source": [
    "df.to_excel('mydata.xlsx')"
   ]
  },
  {
   "cell_type": "code",
   "execution_count": null,
   "id": "b3d0a9e0-61c6-47e8-84b2-abc2a9d3b64b",
   "metadata": {},
   "outputs": [],
   "source": []
  },
  {
   "cell_type": "markdown",
   "id": "2a6db2b9-73a6-4bd9-ad82-c9977dc7780d",
   "metadata": {},
   "source": [
    "##### Create a data table of  5 car models, year of manufacture and price. Download the table as an Excel file."
   ]
  },
  {
   "cell_type": "code",
   "execution_count": null,
   "id": "890a1c1e-334a-47e1-8d7b-6ea826484759",
   "metadata": {},
   "outputs": [],
   "source": [
    "import pandas as pd\n",
    "data = {'Car name':['Polo','Mercerdes','Range Rover','BMW','Avanza'], 'year':[2000,2001,2002,2020,2022], 'Price':[100000,300000,150000,280000,88000]}"
   ]
  },
  {
   "cell_type": "code",
   "execution_count": null,
   "id": "f44ef0eb-fdfd-48d8-aa9c-1faeea37d8f8",
   "metadata": {},
   "outputs": [],
   "source": [
    "dc = pd.DataFrame(data, index =[1,2,3,4,5])"
   ]
  },
  {
   "cell_type": "code",
   "execution_count": null,
   "id": "d31b16d5-8c0c-492c-a415-84e20c5ae2dd",
   "metadata": {},
   "outputs": [],
   "source": [
    "dc"
   ]
  },
  {
   "cell_type": "code",
   "execution_count": null,
   "id": "88bbab0a-c3d6-4add-9f09-67fa0e2e2987",
   "metadata": {},
   "outputs": [],
   "source": [
    "dc.to_excel('mycars.xlsx')"
   ]
  },
  {
   "cell_type": "code",
   "execution_count": null,
   "id": "edbe8db8-a5f3-4793-b063-132813824511",
   "metadata": {},
   "outputs": [],
   "source": []
  },
  {
   "cell_type": "code",
   "execution_count": null,
   "id": "a885009f-99b5-4f96-98f1-29a63b16b8fa",
   "metadata": {},
   "outputs": [],
   "source": [
    "import pandas as df\n",
    "data = {'Patient Number':[10012,20013,30014,40015,40016],\n",
    "        'Patient Name':['Nokwanda','Sandiswa','Thobeka','Mxolisi','Sanele'],\n",
    "        'Patient Surname':['Nyaba','Ngcobo','Ndlovu','Samela','Mkhwanazi'], \n",
    "        'Ward Number':[2,4,5,6,9],\n",
    "        'Bed Number':[211,213,314,318,425]}\n",
    "dc = df.DataFrame(data, index = [1,2,3,4,5])"
   ]
  },
  {
   "cell_type": "code",
   "execution_count": null,
   "id": "2bfaf25a-1026-4291-8635-38f85e30f062",
   "metadata": {},
   "outputs": [],
   "source": [
    "dc"
   ]
  },
  {
   "cell_type": "code",
   "execution_count": null,
   "id": "60d39e5b-e4d8-42a5-9d88-56acbc759488",
   "metadata": {},
   "outputs": [],
   "source": [
    "print(dc.loc[3])"
   ]
  },
  {
   "cell_type": "code",
   "execution_count": null,
   "id": "6a06b2e4-cf76-4368-a337-e51281b1d151",
   "metadata": {},
   "outputs": [],
   "source": [
    "dc.loc[1:3,]"
   ]
  },
  {
   "cell_type": "code",
   "execution_count": null,
   "id": "0adbddf5-654c-49ac-9754-d2e3cb5716fb",
   "metadata": {},
   "outputs": [],
   "source": [
    "dc.loc[[1,3], 'Patient Name']"
   ]
  },
  {
   "cell_type": "markdown",
   "id": "a080ccc9-d872-4dad-80a4-da9022390823",
   "metadata": {},
   "source": [
    "## Reading a CSV File"
   ]
  },
  {
   "cell_type": "code",
   "execution_count": null,
   "id": "8c3ba5b4-36da-4361-91f4-fb589af1913a",
   "metadata": {},
   "outputs": [],
   "source": [
    "pandas.read_csv(\"Path of file\")"
   ]
  },
  {
   "cell_type": "code",
   "execution_count": null,
   "id": "4561c68c-8bfb-4183-9d6a-3c9c28406c4b",
   "metadata": {},
   "outputs": [],
   "source": [
    "import pandas as pd\n",
    "df = pd.read_csv('train.csv')"
   ]
  },
  {
   "cell_type": "code",
   "execution_count": null,
   "id": "2c6ce9ed-7aff-4f5a-9ea9-52108cf29bb3",
   "metadata": {},
   "outputs": [],
   "source": [
    "df"
   ]
  },
  {
   "cell_type": "code",
   "execution_count": null,
   "id": "05bd459e-f703-49a5-b09b-8e3c623136b6",
   "metadata": {},
   "outputs": [],
   "source": [
    "df.head(7)"
   ]
  },
  {
   "cell_type": "code",
   "execution_count": null,
   "id": "4091cadf-ec73-4470-a0b3-1aab806168fe",
   "metadata": {},
   "outputs": [],
   "source": [
    "df.info()"
   ]
  },
  {
   "cell_type": "code",
   "execution_count": null,
   "id": "8d90a8b4-4b79-450f-8378-062b0d4f21d5",
   "metadata": {},
   "outputs": [],
   "source": [
    "df.head()"
   ]
  },
  {
   "cell_type": "code",
   "execution_count": null,
   "id": "93ee59c1-8259-4b49-a777-df98043b4d9c",
   "metadata": {},
   "outputs": [],
   "source": [
    "df.tail(5)"
   ]
  },
  {
   "cell_type": "code",
   "execution_count": null,
   "id": "ed3e708e-07d8-4489-bf24-c2970a3dfc5c",
   "metadata": {},
   "outputs": [],
   "source": [
    "ave.ap"
   ]
  },
  {
   "cell_type": "code",
   "execution_count": null,
   "id": "7a1c7356-1ac2-45cb-88a7-b271fe276361",
   "metadata": {},
   "outputs": [],
   "source": [
    "df.loc[0, 'price'] =555555    (replace)"
   ]
  },
  {
   "cell_type": "code",
   "execution_count": null,
   "id": "6da7fb24-f585-4553-a1ae-bd6d352f885d",
   "metadata": {},
   "outputs": [],
   "source": [
    "newdf.fillna(55555)"
   ]
  },
  {
   "cell_type": "code",
   "execution_count": null,
   "id": "945afe06-ab87-4c47-8b60-3a86188621be",
   "metadata": {},
   "outputs": [],
   "source": [
    "import pandas as pd\n",
    "dc = pd.read_excel('Dataset.xlsx')"
   ]
  },
  {
   "cell_type": "code",
   "execution_count": null,
   "id": "f6cf382a-6c5e-412c-85c0-649c5e698bb6",
   "metadata": {},
   "outputs": [],
   "source": [
    "dc"
   ]
  },
  {
   "cell_type": "code",
   "execution_count": null,
   "id": "cefc6669-a46c-4b49-b755-afc3c93ac811",
   "metadata": {},
   "outputs": [],
   "source": [
    "dc['Sales'] = pd.to_numeric(dc['Sales'], errors = 'coerce')"
   ]
  },
  {
   "cell_type": "code",
   "execution_count": null,
   "id": "1a91efeb-3fc2-4278-ade1-b6808693ace2",
   "metadata": {},
   "outputs": [],
   "source": [
    "dc"
   ]
  },
  {
   "cell_type": "code",
   "execution_count": null,
   "id": "36c2f377-7b71-4688-ba08-26bbefb6d68a",
   "metadata": {},
   "outputs": [],
   "source": [
    "ave = dc['Sales'].mean()"
   ]
  },
  {
   "cell_type": "code",
   "execution_count": null,
   "id": "48895402-7419-418b-978d-b857734f2857",
   "metadata": {},
   "outputs": [],
   "source": [
    "ave"
   ]
  },
  {
   "cell_type": "code",
   "execution_count": null,
   "id": "1827826f-9eb2-4bd6-82b1-b202bce6ccfb",
   "metadata": {},
   "outputs": [],
   "source": [
    "dc['Sales'].fillna(ave, inplace = True)"
   ]
  },
  {
   "cell_type": "code",
   "execution_count": null,
   "id": "7e8097be-9fc1-48d8-aa84-8b74891771a6",
   "metadata": {},
   "outputs": [],
   "source": [
    "dc"
   ]
  },
  {
   "cell_type": "code",
   "execution_count": null,
   "id": "07c10120-034d-4e96-9f7e-6eff3d54f62d",
   "metadata": {},
   "outputs": [],
   "source": [
    "mod = dc['Region'].mode()\n",
    "mod"
   ]
  },
  {
   "cell_type": "code",
   "execution_count": null,
   "id": "a2f41415-0777-4837-8568-6b7aeb591d54",
   "metadata": {},
   "outputs": [],
   "source": [
    "dc['Region'].fillna(mod, inplace = True)\n",
    "dc"
   ]
  },
  {
   "cell_type": "code",
   "execution_count": null,
   "id": "d919003c-d6e9-4af5-b24c-e1578fb57ef3",
   "metadata": {},
   "outputs": [],
   "source": [
    "dc.drop_duplicates()"
   ]
  },
  {
   "cell_type": "code",
   "execution_count": null,
   "id": "fdb7f486-4d9a-433f-9767-dc20eb38a87e",
   "metadata": {},
   "outputs": [],
   "source": [
    "dc.drop_duplicates(['Last Name'])"
   ]
  },
  {
   "cell_type": "code",
   "execution_count": null,
   "id": "fbda9d53-83fd-46db-8070-695b35b85570",
   "metadata": {},
   "outputs": [],
   "source": [
    "dc['Quarter'] = dc['Quarter'].str.replace('\\d+',\"\")"
   ]
  },
  {
   "cell_type": "code",
   "execution_count": null,
   "id": "4eea3ce4-ac35-46b5-8e0e-b0ea9ec9ef89",
   "metadata": {},
   "outputs": [],
   "source": [
    "dc"
   ]
  },
  {
   "cell_type": "code",
   "execution_count": null,
   "id": "b20a809a-0e1b-4d0e-b344-ebe34232aa18",
   "metadata": {},
   "outputs": [],
   "source": [
    "mod = dc['Quarter'].mode()[0]\n",
    "print(mod)"
   ]
  },
  {
   "cell_type": "code",
   "execution_count": null,
   "id": "803f06df-0c2a-444b-9cb0-dbfb6b82c2a3",
   "metadata": {},
   "outputs": [],
   "source": [
    "dc['Quarter'].fillna(mod, inplace = True)\n",
    "display(dc)"
   ]
  },
  {
   "cell_type": "code",
   "execution_count": null,
   "id": "7db95a86-8622-40ae-a669-9f7a4c3b952c",
   "metadata": {},
   "outputs": [],
   "source": [
    "import pandas as pd\n",
    "dc = pd.read_excel('Financial Sample.xlsx')\n",
    "dc"
   ]
  },
  {
   "cell_type": "code",
   "execution_count": null,
   "id": "1b144ec2-409e-48dc-b804-c2ec1ece5937",
   "metadata": {},
   "outputs": [],
   "source": [
    "mod = dc['Discount Band'].mode()[0]\n",
    "mod"
   ]
  },
  {
   "cell_type": "code",
   "execution_count": null,
   "id": "ac31fb08-8654-4f88-8da8-96ddf4851a8b",
   "metadata": {},
   "outputs": [],
   "source": [
    "dc['Discount Band'].fillna(mod, inplace = True)\n",
    "dc"
   ]
  },
  {
   "cell_type": "code",
   "execution_count": null,
   "id": "a0b9d6f7-073d-4ad4-be6f-2e72fdc8836a",
   "metadata": {},
   "outputs": [],
   "source": [
    "mod = dc['Segment'].mode()[0]\n",
    "mod"
   ]
  },
  {
   "cell_type": "code",
   "execution_count": null,
   "id": "4e1e38b7-fb0c-4401-a3ce-89e32bbee0e0",
   "metadata": {},
   "outputs": [],
   "source": [
    "dc['Segment'].fillna(mod, inplace = True)\n",
    "dc"
   ]
  },
  {
   "cell_type": "code",
   "execution_count": null,
   "id": "72b0543d-407e-4b42-b0ad-eeac2116b787",
   "metadata": {},
   "outputs": [],
   "source": [
    "dc['sale Price']= pd.to_numeric(dc['Sale Price'], errors='coerce')\n",
    "dc"
   ]
  },
  {
   "cell_type": "code",
   "execution_count": null,
   "id": "e7b619d0-260f-40a8-850f-7b68fce6b75a",
   "metadata": {},
   "outputs": [],
   "source": [
    "dc['Sale Price'].fillna(ave, inplace = True)\n",
    "dc"
   ]
  },
  {
   "cell_type": "markdown",
   "id": "f760c603-02db-450d-91f8-0e6593f92036",
   "metadata": {},
   "source": [
    "#### Which segment had the highest number of units sold"
   ]
  },
  {
   "cell_type": "code",
   "execution_count": null,
   "id": "a7d15b78-c378-4458-b93d-1ff0e5f526c8",
   "metadata": {},
   "outputs": [],
   "source": [
    "Highest_units = dc[['Segment','Units Sold']] [dc['Units Sold']==dc['Units Sold'].max()]\n",
    "Highest_units"
   ]
  },
  {
   "cell_type": "code",
   "execution_count": null,
   "id": "2688fd6d-15a3-4801-a24b-9520fe6cf7a1",
   "metadata": {},
   "outputs": [],
   "source": [
    "dc.info()"
   ]
  },
  {
   "cell_type": "markdown",
   "id": "811c409c-7088-42cd-b83c-4766bd5775af",
   "metadata": {},
   "source": [
    "### 2. Extract all data about the 'Government Segment'."
   ]
  },
  {
   "cell_type": "code",
   "execution_count": null,
   "id": "1e8ee0a3-35ca-4822-96dd-82ba4a12a986",
   "metadata": {},
   "outputs": [],
   "source": [
    "GS= dc[dc['Segment']=='Government']\n",
    "GS"
   ]
  },
  {
   "cell_type": "markdown",
   "id": "80e04da3-1a5d-47b6-858e-2035ea9205a9",
   "metadata": {},
   "source": [
    "### 3. How many records of each product do wehave in the dataset?"
   ]
  },
  {
   "cell_type": "code",
   "execution_count": null,
   "id": "da03c18a-0c65-48e1-b2ee-1ed9337dd3f2",
   "metadata": {},
   "outputs": [],
   "source": [
    "Procount=dc['Product'].value_counts()\n",
    "Procount"
   ]
  },
  {
   "cell_type": "markdown",
   "id": "7bbf0a38-b71e-4c5f-85f8-4b00b847efe8",
   "metadata": {},
   "source": [
    "### Python Pandas Functions: Practice Exercises 06.11.2024"
   ]
  },
  {
   "cell_type": "code",
   "execution_count": null,
   "id": "6b15407d-d8ee-4a43-a6c7-6ab41642a307",
   "metadata": {},
   "outputs": [],
   "source": []
  },
  {
   "cell_type": "code",
   "execution_count": null,
   "id": "04b048fa-da28-420f-bd08-3c279237f5e0",
   "metadata": {},
   "outputs": [],
   "source": [
    "import pandas as pd\n",
    "dc = pd.read_excel('Financial Sample.xlsx')\n",
    "dc"
   ]
  },
  {
   "cell_type": "code",
   "execution_count": null,
   "id": "849b6109-7915-431d-adef-28243159d613",
   "metadata": {},
   "outputs": [],
   "source": [
    "mod = dc['Discount Band'].mode()[0]\n",
    "mod"
   ]
  },
  {
   "cell_type": "code",
   "execution_count": null,
   "id": "fbe30dfd-dd6c-4639-aeb4-9eca3d1167d5",
   "metadata": {},
   "outputs": [],
   "source": [
    "dc['Discount Band'].fillna(mod, inplace = True)\n",
    "dc"
   ]
  },
  {
   "cell_type": "code",
   "execution_count": null,
   "id": "85d18e41-d65a-493c-a16d-74ddf3fea78f",
   "metadata": {},
   "outputs": [],
   "source": [
    "mod = dc['Segment'].mode()[0]\n",
    "mod"
   ]
  },
  {
   "cell_type": "code",
   "execution_count": null,
   "id": "de9eddf1-4717-4f46-8bfa-cbb591dddaa6",
   "metadata": {},
   "outputs": [],
   "source": [
    "dc['Segment'].fillna(mod, inplace = True)\n",
    "dc"
   ]
  },
  {
   "cell_type": "code",
   "execution_count": null,
   "id": "e3ba6b3c-2620-42e5-a20c-90baa177e5ce",
   "metadata": {},
   "outputs": [],
   "source": [
    "dc['Sale Price']=pd.to_numeric(dc['Sale Price'],errors='coerce')\n",
    "dc"
   ]
  },
  {
   "cell_type": "code",
   "execution_count": null,
   "id": "4f06efe2-0821-4be7-8699-589cf29ae59f",
   "metadata": {},
   "outputs": [],
   "source": [
    "ave=dc['Sale Price'].median()"
   ]
  },
  {
   "cell_type": "code",
   "execution_count": null,
   "id": "2d915b8b-6c15-4552-abd0-ed94d31f80f6",
   "metadata": {},
   "outputs": [],
   "source": [
    "dc['Sale Price'].fillna(ave,inplace= True)\n",
    "dc"
   ]
  },
  {
   "cell_type": "markdown",
   "id": "d4e52f4f-38d6-4357-a012-dc98ce2168d4",
   "metadata": {},
   "source": [
    "#### 2. Display a statistical summary of the numerical columns in the DataFrame."
   ]
  },
  {
   "cell_type": "code",
   "execution_count": null,
   "id": "943291a6-e76a-4bc3-97d4-285ebe97d51b",
   "metadata": {},
   "outputs": [],
   "source": [
    "Summary_Num_columns =dc.describe()\n",
    "Summary_Num_columns"
   ]
  },
  {
   "cell_type": "markdown",
   "id": "78ce2ba0-3b33-40ad-a4d6-f340095b6ae1",
   "metadata": {},
   "source": [
    "#### 3. Find duplicate rows in the Sale Price column."
   ]
  },
  {
   "cell_type": "code",
   "execution_count": null,
   "id": "22767410-0e60-48b2-bf80-72d0461609e2",
   "metadata": {},
   "outputs": [],
   "source": [
    "Duplicates = dc[dc['Sale Price'].duplicated()== False]\n",
    "Duplicates"
   ]
  },
  {
   "cell_type": "markdown",
   "id": "9e26797b-0d6d-409d-a6b4-b89ce727bfcc",
   "metadata": {},
   "source": [
    "#### 4. Extract a 25% sample of the dataframe."
   ]
  },
  {
   "cell_type": "code",
   "execution_count": null,
   "id": "ed721859-f953-4db5-97a7-702c94e56ca6",
   "metadata": {},
   "outputs": [],
   "source": [
    "Sample_dc=dc.sample(frac=0.25)\n",
    "Sample_dc"
   ]
  },
  {
   "cell_type": "markdown",
   "id": "5c5d6a92-6629-47aa-aae0-b750f2fcc0b3",
   "metadata": {},
   "source": [
    "#### 5. Extract exactly 10 random rows from the dataframe."
   ]
  },
  {
   "cell_type": "code",
   "execution_count": null,
   "id": "e964f08e-3c1b-4865-9663-0d5a87ab6b86",
   "metadata": {},
   "outputs": [],
   "source": [
    "random_rows = dc.sample(n=10)\n",
    "random_rows"
   ]
  },
  {
   "cell_type": "markdown",
   "id": "b57040f9-09b4-4968-8dbd-3f8e16652dff",
   "metadata": {},
   "source": [
    "#### 6. Extract the first 25 rows the dataframe"
   ]
  },
  {
   "cell_type": "code",
   "execution_count": null,
   "id": "94f7d229-9828-4611-a763-b79feed10d75",
   "metadata": {},
   "outputs": [],
   "source": [
    "dc.head(25)"
   ]
  },
  {
   "cell_type": "markdown",
   "id": "0e730a56-7ee1-4fa0-a385-d1bff78b531b",
   "metadata": {},
   "source": [
    "#### 5. Etract the last 15 rows from the dataframe."
   ]
  },
  {
   "cell_type": "code",
   "execution_count": null,
   "id": "f7ae4a52-bea5-4677-ad24-8e299942b7fe",
   "metadata": {},
   "outputs": [],
   "source": [
    "lastrows=dc.tail(15)\n",
    "lastrows"
   ]
  },
  {
   "cell_type": "markdown",
   "id": "cc5be98b-6ab0-4fcf-98a7-4228a04b93a8",
   "metadata": {},
   "source": [
    "#### 8. Display all the unique products, countries, discount bands and segments in the dataframe."
   ]
  },
  {
   "cell_type": "code",
   "execution_count": null,
   "id": "5f8f3434-7ff7-45ec-b9ec-cb9dc5c79e74",
   "metadata": {},
   "outputs": [],
   "source": [
    "unique_products= dc['Product'].unique()\n",
    "unique_country= dc['Country'].unique()\n",
    "unique_discountBand= dc['Discount Band'].unique()\n",
    "unique_segment= dc['Segment'].unique()\n",
    "\n",
    "print(unique_products)\n",
    "print(unique_country)\n",
    "print(unique_discountBand)\n",
    "print(unique_segment)"
   ]
  },
  {
   "cell_type": "markdown",
   "id": "2a4c4b54-12a6-42b3-bd7a-e31928f9cde2",
   "metadata": {},
   "source": [
    "#### 9.Display the number of unique  values in each row."
   ]
  },
  {
   "cell_type": "code",
   "execution_count": null,
   "id": "f4f92e8c-4b87-4a03-9e73-ab213cc8538f",
   "metadata": {},
   "outputs": [],
   "source": [
    "num_unique_values = dc.apply(lambda row:row.unique(),axis=1)\n",
    "num_unique_values"
   ]
  },
  {
   "cell_type": "markdown",
   "id": "a2091dc4-250e-4278-af77-dcb1b5c531e9",
   "metadata": {},
   "source": [
    "## visualisation in Python"
   ]
  },
  {
   "cell_type": "markdown",
   "id": "b56007a4-385d-4bce-869a-7583cfc0cff3",
   "metadata": {},
   "source": [
    "### Ploting a simple Line Graph"
   ]
  },
  {
   "cell_type": "code",
   "execution_count": null,
   "id": "99755304-8930-4674-ab03-eb0d74d3f633",
   "metadata": {},
   "outputs": [],
   "source": [
    "#Importing the needed graphing library\n",
    "from matplotlib import pyplot as plt\n",
    "\n",
    "#generating x and y data for the graph\n",
    "x = [6,7,5,7]\n",
    "y = [3,5,6,7]\n",
    "\n",
    "#Ploting the graph\n",
    "plt.plot(x,y)\n",
    "\n",
    "#display the graph\n",
    "plt.show()"
   ]
  },
  {
   "cell_type": "code",
   "execution_count": null,
   "id": "b21c6194-7b27-48cf-bd8c-26861b672897",
   "metadata": {},
   "outputs": [],
   "source": [
    "#Importing the needed graphing library\n",
    "from matplotlib import pyplot as plt\n",
    "\n",
    "#generating x and y data for the graph\n",
    "x = [6,7,5,7]\n",
    "y = [3,5,6,7]\n",
    "\n",
    "#Ploting the graph\n",
    "plt.plot(x,y)\n",
    "\n",
    "#Adding labels\n",
    "plt.\n",
    "#display the graph\n",
    "plt.show()"
   ]
  },
  {
   "cell_type": "code",
   "execution_count": null,
   "id": "f549464a-aecf-46d5-b426-e890507e4fe4",
   "metadata": {},
   "outputs": [],
   "source": [
    "from matplotlib import pyplot as plt\n",
    "#importing styling library\n",
    "from matplotlib import style\n",
    "style.use('ggplot')\n",
    "\n",
    "#Generating x and y data for the graph\n",
    "x = [6,2,0,3]\n",
    "y = [3,3,6,3]\n",
    "x1 =[4,5,6,7]\n",
    "y1 =[5,7,6,9]\n",
    "\n",
    "#Ploting the graph and adding style(plotting 2 lines)\n",
    "plt.plot(x,y, 'green', label = 'equation Line', linewidth = 3)\n",
    "plt.plot(x1,y1, 'k', label = 'equation line', linewidth =2)\n",
    "\n",
    "#adding labels, Legend and grid to the chart\n",
    "plt.title('My Line Cart')\n",
    "plt.xlabel('X Axis')\n",
    "plt.ylabel('Y Axis')\n",
    "plt.legent(loc = 'upper right')\n",
    "plt.grid(True, colour = 'pink')\n",
    "\n",
    "#display the graph\n",
    "plt.show()"
   ]
  },
  {
   "cell_type": "markdown",
   "id": "60a2e7a3-9a90-4196-8a24-dad7fe4b2bf5",
   "metadata": {},
   "source": [
    "### Plottig aa Bar Chart"
   ]
  },
  {
   "cell_type": "code",
   "execution_count": null,
   "id": "78dfefaf-d75b-4bb3-8782-830bcdf38587",
   "metadata": {},
   "outputs": [],
   "source": [
    "import matplotlib.pyplot as plt\n",
    "x = [0.20, 1,1.20, 2,2.5, 3,3.5]\n",
    "y = [15,25,36,45,56,70,88]\n",
    "plt.bar(x,y, label = 'Bar', width = 1, color ='blue')\n",
    "plt.show()"
   ]
  },
  {
   "cell_type": "code",
   "execution_count": null,
   "id": "f3cd7c3f-a73d-45ba-9241-fda16104899f",
   "metadata": {},
   "outputs": [],
   "source": [
    "import matplotlib.pyplot as plt\n",
    "x = [0.20, 1,1.20, 2,2.5, 3,3.5]\n",
    "y = [15,25,36,45,56,70,88]\n",
    "plt.bar(x,y, label = 'Bar', width = 1, color ='blue')\n",
    "plt.xticks([0,2,4,6,8,10])\n",
    "plt.yticks([0,10,20,30,40,50,60,70])\n",
    "plt.show()"
   ]
  },
  {
   "cell_type": "code",
   "execution_count": null,
   "id": "a28a6c0d-cc91-4004-a5f0-92ec961e00eb",
   "metadata": {},
   "outputs": [],
   "source": [
    "import matplotlib.pyplot as plt\n",
    "x = [0.20, 1,1.20, 2,2.5, 3,3.5]\n",
    "y = [15,25,36,45,56,70,88]\n",
    "plt.bar(x,y, label = 'Bar', width = 1, color ='blue')\n",
    "plt.xticks([0,2,4,6,8,10])\n",
    "plt.yticks([0,10,20,30,40,50,60,70])\n",
    "plt.title('Bar Chart')\n",
    "plt.xlabel('Days')\n",
    "plt.ylabel('Sale Units')\n",
    "plt.legend()\n",
    "plt.show()"
   ]
  },
  {
   "cell_type": "markdown",
   "id": "87285a26-2446-445f-bf99-40c1bb82b24f",
   "metadata": {},
   "source": [
    "### create a two-line graph. Generate your own Data for the Graph. Labbel the x and y  axis, and the linnes and give title to your graph."
   ]
  },
  {
   "cell_type": "code",
   "execution_count": null,
   "id": "2b5ac768-1935-428e-8789-c9574029d90b",
   "metadata": {},
   "outputs": [],
   "source": [
    "from matplotlib import pyplot as plt\n",
    "#importing styling library\n",
    "from matplotlib import style\n",
    "style.use('ggplot')\n",
    "#Generating x and y data for the graph\n",
    "a = ['Durban','Tongaat','Gateway','Mhlanga']\n",
    "b = [4,5,6,7]\n",
    "c = [7,9,7,11]\n",
    "#Ploting the graph and adding style(plotting 2 lines)\n",
    "plt.plot(x,y, 'green', label = 'equation Line', linewidth = 2)\n",
    "plt.plot(x1,y1, 'k', label = 'equation line', linewidth =1)\n",
    "\n",
    "#adding labels, Legend and grid to the chart\n",
    "plt.title('My Line Cart')\n",
    "plt.xlabel('b Axis')\n",
    "plt.ylabel('c Axis')\n",
    "plt.legent(loc = 'upper right')\n",
    "plt.grid(True, colour = 'pink')\n",
    "\n",
    "#display the graph\n",
    "plt.show()"
   ]
  },
  {
   "cell_type": "markdown",
   "id": "6b2383a0-ae25-4ea6-8321-22fb13622dd1",
   "metadata": {},
   "source": [
    "### Plotting a Histogram"
   ]
  },
  {
   "cell_type": "code",
   "execution_count": null,
   "id": "2dd8c85d-272d-4d27-8db8-48d237926be9",
   "metadata": {},
   "outputs": [],
   "source": [
    "#Plotting a histogram for population data.\n",
    "import matplotlib.pyplot as plt\n",
    "height = [50,80,150, 145, 170, 165, 157, 189, 171, 166, 168,158]\n",
    "bins = [0,50,100,150,200]\n",
    "plt.hist(height, bins, histtype = 'bar', rwidth= .9, color = 'm')\n",
    "plt.title('Height Distibution')\n",
    "plt.xlabel('Height Category')\n",
    "plt.ylabel('no. of people')\n",
    "plt.yticks([1,2,3,4,5,6,6,8,9,10])\n",
    "plt.show()"
   ]
  },
  {
   "cell_type": "markdown",
   "id": "e16b09e1-8946-4aed-b399-2bf56eecbf68",
   "metadata": {},
   "source": [
    "## Plotting a Scatter Chart"
   ]
  },
  {
   "cell_type": "code",
   "execution_count": null,
   "id": "0e9df948-35af-4fd9-a694-852b1fb30045",
   "metadata": {},
   "outputs": [],
   "source": [
    "import matplotlib.pyplot as plt\n",
    "x = [1,2,3,4,0,2,5,4,9]\n",
    "y =[6,6,7,8,5,4,6,7,4]\n",
    "x1 = [4,6,8,9,4,6,7]\n",
    "y1 = [4,5,6,4,6,3,6]\n",
    "plt.scatter(x,y, label = 'My First Scatter', color = 'r')\n",
    "plt.scatter(x1,y1, label = 'My Second Scatter', color = 'b')\n",
    "plt.title('My Scatter Chart')\n",
    "plt.xlabel('x Points')\n",
    "plt.ylabel('y Points')\n",
    "plt.xticks([1,2,3,4,5,6,7,8,9,10])\n",
    "plt.yticks([1,2,3,4,5,6,7,8,9,10])\n",
    "plt.legend()\n",
    "plt.show()"
   ]
  },
  {
   "cell_type": "code",
   "execution_count": null,
   "id": "8420d4b3-cb48-4ff9-9d46-7ebb36d6a3a7",
   "metadata": {},
   "outputs": [],
   "source": [
    "import matplotlib.pyplot as plt\n",
    "x = ['Andile','Busi','Mark','Penyo','Percy','Peter']\n",
    "y= [55,65,67,65,67,78]\n",
    "plt.bar(x,y, label = 'Bar', width = .3, color ='blue')\n",
    "plt.yticks([0,10,20,30,40,50,60,70])\n",
    "plt.title('Students Marks')\n",
    "plt.xlabel('Students')\n",
    "plt.ylabel('Marks')\n",
    "plt.legend()\n",
    "plt.show()"
   ]
  },
  {
   "cell_type": "code",
   "execution_count": null,
   "id": "e2cf964d-0c7b-49c1-ace1-53988f8fecdb",
   "metadata": {},
   "outputs": [],
   "source": [
    "import matplotlib.pyplot as plt\n",
    "fig = plt.figure()\n",
    "sizes =fig.add_axes([0,0,1,1])\n",
    "x = ['Saneh','Sthandiwe','Mahlengy','Lungelo','Sabelo']\n",
    "y = [3500,2200,1500,5000,4000]\n",
    "sizes.pie(y, labels= x, autopct = '%.2f%%')\n",
    "plt.show()"
   ]
  },
  {
   "cell_type": "code",
   "execution_count": null,
   "id": "a83f2bb1-ac4a-403a-a5e2-968c2e220d80",
   "metadata": {},
   "outputs": [],
   "source": [
    "import matplotlib.pyplot as plt\n",
    "import pandas as pd\n",
    "df=pd.read_csv('Company Sales.csv')\n",
    "a= df['month_number'].tolist()\n",
    "b= df['total_profit'].tolist()\n",
    "plt.plot(a,b, label = 'Line',linewidth=1)\n",
    "plt.title('Company Profit')\n",
    "plt.xlabel('Month Number')\n",
    "plt.ylabel('Total Profit')\n",
    "plt.show()"
   ]
  },
  {
   "cell_type": "code",
   "execution_count": null,
   "id": "78ea9930-18f7-4217-883b-3c12d8bfc5e3",
   "metadata": {},
   "outputs": [],
   "source": [
    "import matplotlib.pyplot as plt\n",
    "import pandas as pd\n",
    "df=pd.read_csv('Company Sales.csv')\n",
    "x= df['month_number'].tolist()\n",
    "y= df['total_units'].tolist()\n",
    "plt.plot(a,b, label = 'profit/month',linestyle = \"--\", linewidth=3, marker= 'o',color='red')\n",
    "plt.title('Company Total Profit')\n",
    "plt.xlabel('month Number')\n",
    "plt.ylabel('total_units')\n",
    "plt.legend(loc= 'upper left')\n",
    "plt.xticks([1,2,3,4,5,6,7,8,9,10,11,12,13,14,15])\n",
    "plt.show()"
   ]
  },
  {
   "cell_type": "markdown",
   "id": "923a4ff0-4ffd-41ff-9c5d-9917afd7ad1f",
   "metadata": {},
   "source": [
    "## Visualisation in Python Practice Exercises: 14.11.2024"
   ]
  },
  {
   "cell_type": "code",
   "execution_count": null,
   "id": "20cf1630-0238-4ebe-a4f6-e1763c73c5a9",
   "metadata": {},
   "outputs": [],
   "source": []
  },
  {
   "cell_type": "code",
   "execution_count": null,
   "id": "3f5601ec-1fab-4ca8-a8f9-337084c9279f",
   "metadata": {},
   "outputs": [],
   "source": [
    "import matplotlib.pyplot as plt\n",
    "import pandas as pd\n",
    "df=pd.read_csv('Company Sales.csv')\n",
    "fc=df['facecream'].tolist()\n",
    "fw=df['facewash'].tolist()\n",
    "tp=df['toothpaste'].tolist()\n",
    "bs=df['bathingsoap'].tolist()\n",
    "s =df['shampoo'].tolist()\n",
    "m =df['moisturizer'].tolist()\n",
    "plt.plot(fc, label = 'facecream',linewidth=1, color='red')\n",
    "plt.plot(fw, label = 'facewash',linewidth=1,  color='blue')\n",
    "plt.plot(tp, label = 'toothpaste',linewidth=1, color='pink')\n",
    "plt.plot(bs, label = 'bathingsoap',linewidth=1, color='orange')\n",
    "plt.plot(s, label = 'shampoo',linewidth=1, color ='black')\n",
    "plt.plot(m, label = 'moisturizer',linewidth=1, color ='yellow')\n",
    "plt.title('Sold Units per product')\n",
    "plt.xlabel('Number of units per month')\n",
    "plt.ylabel('Month Number')\n",
    "plt.legend(loc= 'upper left')\n",
    "plt.grid(True, color = 'purple' )\n",
    "plt.gca().set_facecolor('skyblue')\n",
    "plt.show()"
   ]
  },
  {
   "cell_type": "code",
   "execution_count": null,
   "id": "74693409-a125-4f08-af41-204a29b5ba59",
   "metadata": {},
   "outputs": [],
   "source": [
    "import matplotlib.pyplot as plt\n",
    "import pandas as pd\n",
    "a= df['month_number'].tolist()\n",
    "b= df['toothpaste'].tolist()\n",
    "plt.scatter(a,b, label = 'tothpaste',linewidth=2, color='blue')\n",
    "plt.grid(True, color = 'grey', linestyle = \"--\")\n",
    "plt.gca().set_facecolor('pink')\n",
    "plt.legend(loc= 'upper left')\n",
    "plt.show()"
   ]
  },
  {
   "cell_type": "code",
   "execution_count": null,
   "id": "926c83b7-d427-46c4-9929-a09b7c47e1c1",
   "metadata": {},
   "outputs": [],
   "source": [
    "import matplotlib.pyplot as plt\n",
    "p=df['month_number'].tolist()\n",
    "fc=df['facecream'].tolist()\n",
    "fw=df['facewash'].tolist()\n",
    "plt.bar([x-0.5 for x in p], fc, label = 'facecream', width=0.5,color='red', align = 'edge')\n",
    "plt.bar([x+0.5 for x in p], fw, label = 'facewash', width=-0.5,color='blue',align ='edge')\n",
    "plt.title('Sold Units per months')\n",
    "plt.xlabel('Months')\n",
    "plt.ylabel('Products')\n",
    "plt.xticks([1,2,3,4,5,6,7,8,9,10,11,12,13,14,15])\n",
    "plt.yticks([1000,1500,2000,2500,3000,3500,4000,4500,5000,5500,6000])\n",
    "plt.gca().set_facecolor('pink')\n",
    "plt.legend()\n",
    "plt.show()"
   ]
  },
  {
   "cell_type": "code",
   "execution_count": null,
   "id": "51046e88-d0b3-4ff8-ac7a-77d1f7948ad5",
   "metadata": {},
   "outputs": [],
   "source": [
    "import matplotlib.pyplot as plt\n",
    "saleist=['facecream','facewash','toothpaste','bathingsoap','shampoo','moisturizer']\n",
    "TotalSales=df[['facecream','facewash','toothpaste','bathingsoap','shampoo','moisturizer']].sum()\n",
    "fig = plt.figure()\n",
    "sizes =fig.add_axes([0,0,1,1])\n",
    "plt.pie(y, labels= x, autopct = '%.2f%%')\n",
    "plt.show()"
   ]
  },
  {
   "cell_type": "code",
   "execution_count": null,
   "id": "38df161d-f40c-4440-92fd-e5cde28c1171",
   "metadata": {},
   "outputs": [],
   "source": [
    "import matplotlib.pyplot as plt\n",
    "import pandas as pd\n",
    "df = pd.read_csv('Company Sales.csv')\n",
    "bins = [100000, 150000, 200000, 250000,300000,400000,450000]\n"
   ]
  },
  {
   "cell_type": "markdown",
   "id": "82fde27f-6ecd-49f4-9165-e3d6ced011f5",
   "metadata": {},
   "source": [
    "## 20.11.2024"
   ]
  },
  {
   "cell_type": "markdown",
   "id": "3f1bdf9c-3c71-474d-8854-a0a31043aa23",
   "metadata": {},
   "source": [
    "### Which segment had the highest number of units sold"
   ]
  },
  {
   "cell_type": "code",
   "execution_count": null,
   "id": "b127e209-a5d6-4298-86ad-5d51c14739e4",
   "metadata": {},
   "outputs": [],
   "source": [
    "import pandas as pd\n",
    "dc = pd.read_excel('Financial Sample.xlsx')\n",
    "dc"
   ]
  },
  {
   "cell_type": "markdown",
   "id": "ef1bbc18-214e-439a-b460-5073c1136185",
   "metadata": {},
   "source": [
    "### 1. Which segment had the highest number of units sold?"
   ]
  },
  {
   "cell_type": "code",
   "execution_count": null,
   "id": "bfbe6bc9-bd3b-4a17-ac44-1e430b70dd62",
   "metadata": {},
   "outputs": [],
   "source": [
    "Highest_units = dc[['Segment','Units Sold']] [dc['Units Sold']==dc['Units Sold'].max()]\n",
    "Highest_units"
   ]
  },
  {
   "cell_type": "markdown",
   "id": "7c5c0d5c-b317-4d59-9b17-f8479ebbe165",
   "metadata": {},
   "source": [
    "### 2. Extract all Data about the 'Government Segment'."
   ]
  },
  {
   "cell_type": "code",
   "execution_count": null,
   "id": "4d5d06c0-999e-4a66-a15f-4aa1175287f6",
   "metadata": {},
   "outputs": [],
   "source": [
    "GS = dc[dc['Segment']=='Government']\n",
    "GS"
   ]
  },
  {
   "cell_type": "markdown",
   "id": "68788331-b92c-4f0b-b834-194415d473b9",
   "metadata": {},
   "source": [
    "### 3. How many records of each product do we have in dataset"
   ]
  },
  {
   "cell_type": "code",
   "execution_count": null,
   "id": "72d35d55-6b1c-4bc9-b347-01bb9d9f4110",
   "metadata": {},
   "outputs": [],
   "source": [
    "procount = dc['Product'].value_counts()\n",
    "procount"
   ]
  },
  {
   "cell_type": "markdown",
   "id": "003e919a-858a-4946-9feb-b7559a5bc255",
   "metadata": {},
   "source": [
    "### 4. Find the highest number of units sold for each product"
   ]
  },
  {
   "cell_type": "code",
   "execution_count": null,
   "id": "f65562fd-b060-42ed-8d31-c9bd6b9980c5",
   "metadata": {},
   "outputs": [],
   "source": [
    "highest = dc.groupby('Product')\n",
    "Units= highest[['Product','Units Sold']].max()\n",
    "Units"
   ]
  },
  {
   "cell_type": "markdown",
   "id": "2e873ed4-4de6-48ee-8872-856cf79b6404",
   "metadata": {},
   "source": [
    "### 5. Display records for the top 10 selling products."
   ]
  },
  {
   "cell_type": "code",
   "execution_count": null,
   "id": "17c486ec-a483-4f83-b4c0-d0e4b6d3a882",
   "metadata": {},
   "outputs": [],
   "source": [
    "dc.nlargest(10, 'Units Sold')"
   ]
  },
  {
   "cell_type": "code",
   "execution_count": null,
   "id": "4d2070ed-61ee-46ee-9a83-3d8b9b352c49",
   "metadata": {},
   "outputs": [],
   "source": [
    "dc.nsmallest(10, 'Profit')"
   ]
  },
  {
   "cell_type": "code",
   "execution_count": null,
   "id": "8e589bcb-29be-44a9-8fef-76eddcfb8ffd",
   "metadata": {},
   "outputs": [],
   "source": [
    "dc.rename(columns = {'Units Sold':'Quantity','Segnment':'Sector','Sale Price':'Price'}, inplace = True)\n",
    "dc"
   ]
  },
  {
   "cell_type": "code",
   "execution_count": null,
   "id": "823875e5-16bb-4d48-be15-7e19188924da",
   "metadata": {},
   "outputs": [],
   "source": [
    "import pandas as pd\n",
    "dc=pd.read_excel('Dataset1.xlsx')\n",
    "dc"
   ]
  },
  {
   "cell_type": "markdown",
   "id": "7c07d462-764f-4560-8779-46ce032f2c18",
   "metadata": {},
   "source": [
    "### 2. Plot a Bar Graph to visualise total sales by region. Which province had the highest sales made"
   ]
  },
  {
   "cell_type": "code",
   "execution_count": null,
   "id": "d4baba04-2196-47c9-bf88-74d8cf87eba8",
   "metadata": {},
   "outputs": [],
   "source": [
    "import matplotlib.pyplot as plt\n",
    "sales_region= dc.groupby('Region')\n",
    "Tsales= sales_region[['Region','Sales']].max()\n",
    "Tsales\n",
    "x =dc['Region'].tolist()\n",
    "y =dc['Sales'].tolist()\n",
    "plt.bar(x,y, label = 'Highest Sale', width = .3, color ='blue')\n",
    "plt.title('Total Sales/Region')\n",
    "plt.xlabel('Region')\n",
    "plt.ylabel('Sales')\n",
    "plt.show()"
   ]
  },
  {
   "cell_type": "code",
   "execution_count": null,
   "id": "5708d04b-72aa-4470-b328-3d32e9039b69",
   "metadata": {},
   "outputs": [],
   "source": [
    "highest = dc.groupby('Product')\n",
    "Units= highest[['Product','Units Sold']].max()\n",
    "Units"
   ]
  },
  {
   "cell_type": "code",
   "execution_count": null,
   "id": "38c8c064-6b64-4f08-b771-7aaf57fe8b7f",
   "metadata": {},
   "outputs": [],
   "source": [
    "import matplotlib.pyplot as plt\n",
    "highest = dc.groupby('Region')\n",
    "fig = plt.figure()\n",
    "sizes =fig.add_axes([0,0,1,1])\n",
    "x = [\n",
    "y = [\n",
    "sizes.pie(y, labels= x, autopct = '%.2f%%')\n",
    "plt.show()"
   ]
  },
  {
   "cell_type": "markdown",
   "id": "8434c2af-7037-4d25-9c9c-80fa4f40e1f3",
   "metadata": {},
   "source": [
    "## 27/11/2024"
   ]
  },
  {
   "cell_type": "markdown",
   "id": "e6fb7123-6839-43cc-9fcb-f199b6899cea",
   "metadata": {},
   "source": [
    "### Liner Regression & Machine Learning"
   ]
  },
  {
   "cell_type": "code",
   "execution_count": 1,
   "id": "fe8853c5-98d7-4267-9bbe-dad154632bef",
   "metadata": {},
   "outputs": [
    {
     "ename": "UnicodeDecodeError",
     "evalue": "'utf-8' codec can't decode byte 0xe3 in position 14: invalid continuation byte",
     "output_type": "error",
     "traceback": [
      "\u001b[1;31m---------------------------------------------------------------------------\u001b[0m",
      "\u001b[1;31mUnicodeDecodeError\u001b[0m                        Traceback (most recent call last)",
      "Cell \u001b[1;32mIn[1], line 4\u001b[0m\n\u001b[0;32m      2\u001b[0m \u001b[38;5;28;01mimport\u001b[39;00m \u001b[38;5;21;01mmatplotlib\u001b[39;00m\u001b[38;5;21;01m.\u001b[39;00m\u001b[38;5;21;01mpyplot\u001b[39;00m \u001b[38;5;28;01mas\u001b[39;00m \u001b[38;5;21;01mplt\u001b[39;00m\n\u001b[0;32m      3\u001b[0m \u001b[38;5;28;01mimport\u001b[39;00m \u001b[38;5;21;01mpandas\u001b[39;00m \u001b[38;5;28;01mas\u001b[39;00m \u001b[38;5;21;01mpd\u001b[39;00m\n\u001b[1;32m----> 4\u001b[0m df \u001b[38;5;241m=\u001b[39mpd\u001b[38;5;241m.\u001b[39mread_csv(\u001b[38;5;124m'\u001b[39m\u001b[38;5;124mTips.csv\u001b[39m\u001b[38;5;124m'\u001b[39m)\n\u001b[0;32m      5\u001b[0m df\u001b[38;5;241m.\u001b[39mhead()\n",
      "File \u001b[1;32m~\\OneDrive\\Documents\\Python Scripts\\Lib\\site-packages\\pandas\\io\\parsers\\readers.py:1026\u001b[0m, in \u001b[0;36mread_csv\u001b[1;34m(filepath_or_buffer, sep, delimiter, header, names, index_col, usecols, dtype, engine, converters, true_values, false_values, skipinitialspace, skiprows, skipfooter, nrows, na_values, keep_default_na, na_filter, verbose, skip_blank_lines, parse_dates, infer_datetime_format, keep_date_col, date_parser, date_format, dayfirst, cache_dates, iterator, chunksize, compression, thousands, decimal, lineterminator, quotechar, quoting, doublequote, escapechar, comment, encoding, encoding_errors, dialect, on_bad_lines, delim_whitespace, low_memory, memory_map, float_precision, storage_options, dtype_backend)\u001b[0m\n\u001b[0;32m   1013\u001b[0m kwds_defaults \u001b[38;5;241m=\u001b[39m _refine_defaults_read(\n\u001b[0;32m   1014\u001b[0m     dialect,\n\u001b[0;32m   1015\u001b[0m     delimiter,\n\u001b[1;32m   (...)\u001b[0m\n\u001b[0;32m   1022\u001b[0m     dtype_backend\u001b[38;5;241m=\u001b[39mdtype_backend,\n\u001b[0;32m   1023\u001b[0m )\n\u001b[0;32m   1024\u001b[0m kwds\u001b[38;5;241m.\u001b[39mupdate(kwds_defaults)\n\u001b[1;32m-> 1026\u001b[0m \u001b[38;5;28;01mreturn\u001b[39;00m _read(filepath_or_buffer, kwds)\n",
      "File \u001b[1;32m~\\OneDrive\\Documents\\Python Scripts\\Lib\\site-packages\\pandas\\io\\parsers\\readers.py:620\u001b[0m, in \u001b[0;36m_read\u001b[1;34m(filepath_or_buffer, kwds)\u001b[0m\n\u001b[0;32m    617\u001b[0m _validate_names(kwds\u001b[38;5;241m.\u001b[39mget(\u001b[38;5;124m\"\u001b[39m\u001b[38;5;124mnames\u001b[39m\u001b[38;5;124m\"\u001b[39m, \u001b[38;5;28;01mNone\u001b[39;00m))\n\u001b[0;32m    619\u001b[0m \u001b[38;5;66;03m# Create the parser.\u001b[39;00m\n\u001b[1;32m--> 620\u001b[0m parser \u001b[38;5;241m=\u001b[39m TextFileReader(filepath_or_buffer, \u001b[38;5;241m*\u001b[39m\u001b[38;5;241m*\u001b[39mkwds)\n\u001b[0;32m    622\u001b[0m \u001b[38;5;28;01mif\u001b[39;00m chunksize \u001b[38;5;129;01mor\u001b[39;00m iterator:\n\u001b[0;32m    623\u001b[0m     \u001b[38;5;28;01mreturn\u001b[39;00m parser\n",
      "File \u001b[1;32m~\\OneDrive\\Documents\\Python Scripts\\Lib\\site-packages\\pandas\\io\\parsers\\readers.py:1620\u001b[0m, in \u001b[0;36mTextFileReader.__init__\u001b[1;34m(self, f, engine, **kwds)\u001b[0m\n\u001b[0;32m   1617\u001b[0m     \u001b[38;5;28mself\u001b[39m\u001b[38;5;241m.\u001b[39moptions[\u001b[38;5;124m\"\u001b[39m\u001b[38;5;124mhas_index_names\u001b[39m\u001b[38;5;124m\"\u001b[39m] \u001b[38;5;241m=\u001b[39m kwds[\u001b[38;5;124m\"\u001b[39m\u001b[38;5;124mhas_index_names\u001b[39m\u001b[38;5;124m\"\u001b[39m]\n\u001b[0;32m   1619\u001b[0m \u001b[38;5;28mself\u001b[39m\u001b[38;5;241m.\u001b[39mhandles: IOHandles \u001b[38;5;241m|\u001b[39m \u001b[38;5;28;01mNone\u001b[39;00m \u001b[38;5;241m=\u001b[39m \u001b[38;5;28;01mNone\u001b[39;00m\n\u001b[1;32m-> 1620\u001b[0m \u001b[38;5;28mself\u001b[39m\u001b[38;5;241m.\u001b[39m_engine \u001b[38;5;241m=\u001b[39m \u001b[38;5;28mself\u001b[39m\u001b[38;5;241m.\u001b[39m_make_engine(f, \u001b[38;5;28mself\u001b[39m\u001b[38;5;241m.\u001b[39mengine)\n",
      "File \u001b[1;32m~\\OneDrive\\Documents\\Python Scripts\\Lib\\site-packages\\pandas\\io\\parsers\\readers.py:1898\u001b[0m, in \u001b[0;36mTextFileReader._make_engine\u001b[1;34m(self, f, engine)\u001b[0m\n\u001b[0;32m   1895\u001b[0m     \u001b[38;5;28;01mraise\u001b[39;00m \u001b[38;5;167;01mValueError\u001b[39;00m(msg)\n\u001b[0;32m   1897\u001b[0m \u001b[38;5;28;01mtry\u001b[39;00m:\n\u001b[1;32m-> 1898\u001b[0m     \u001b[38;5;28;01mreturn\u001b[39;00m mapping[engine](f, \u001b[38;5;241m*\u001b[39m\u001b[38;5;241m*\u001b[39m\u001b[38;5;28mself\u001b[39m\u001b[38;5;241m.\u001b[39moptions)\n\u001b[0;32m   1899\u001b[0m \u001b[38;5;28;01mexcept\u001b[39;00m \u001b[38;5;167;01mException\u001b[39;00m:\n\u001b[0;32m   1900\u001b[0m     \u001b[38;5;28;01mif\u001b[39;00m \u001b[38;5;28mself\u001b[39m\u001b[38;5;241m.\u001b[39mhandles \u001b[38;5;129;01mis\u001b[39;00m \u001b[38;5;129;01mnot\u001b[39;00m \u001b[38;5;28;01mNone\u001b[39;00m:\n",
      "File \u001b[1;32m~\\OneDrive\\Documents\\Python Scripts\\Lib\\site-packages\\pandas\\io\\parsers\\c_parser_wrapper.py:93\u001b[0m, in \u001b[0;36mCParserWrapper.__init__\u001b[1;34m(self, src, **kwds)\u001b[0m\n\u001b[0;32m     90\u001b[0m \u001b[38;5;28;01mif\u001b[39;00m kwds[\u001b[38;5;124m\"\u001b[39m\u001b[38;5;124mdtype_backend\u001b[39m\u001b[38;5;124m\"\u001b[39m] \u001b[38;5;241m==\u001b[39m \u001b[38;5;124m\"\u001b[39m\u001b[38;5;124mpyarrow\u001b[39m\u001b[38;5;124m\"\u001b[39m:\n\u001b[0;32m     91\u001b[0m     \u001b[38;5;66;03m# Fail here loudly instead of in cython after reading\u001b[39;00m\n\u001b[0;32m     92\u001b[0m     import_optional_dependency(\u001b[38;5;124m\"\u001b[39m\u001b[38;5;124mpyarrow\u001b[39m\u001b[38;5;124m\"\u001b[39m)\n\u001b[1;32m---> 93\u001b[0m \u001b[38;5;28mself\u001b[39m\u001b[38;5;241m.\u001b[39m_reader \u001b[38;5;241m=\u001b[39m parsers\u001b[38;5;241m.\u001b[39mTextReader(src, \u001b[38;5;241m*\u001b[39m\u001b[38;5;241m*\u001b[39mkwds)\n\u001b[0;32m     95\u001b[0m \u001b[38;5;28mself\u001b[39m\u001b[38;5;241m.\u001b[39munnamed_cols \u001b[38;5;241m=\u001b[39m \u001b[38;5;28mself\u001b[39m\u001b[38;5;241m.\u001b[39m_reader\u001b[38;5;241m.\u001b[39munnamed_cols\n\u001b[0;32m     97\u001b[0m \u001b[38;5;66;03m# error: Cannot determine type of 'names'\u001b[39;00m\n",
      "File \u001b[1;32mparsers.pyx:574\u001b[0m, in \u001b[0;36mpandas._libs.parsers.TextReader.__cinit__\u001b[1;34m()\u001b[0m\n",
      "File \u001b[1;32mparsers.pyx:663\u001b[0m, in \u001b[0;36mpandas._libs.parsers.TextReader._get_header\u001b[1;34m()\u001b[0m\n",
      "File \u001b[1;32mparsers.pyx:874\u001b[0m, in \u001b[0;36mpandas._libs.parsers.TextReader._tokenize_rows\u001b[1;34m()\u001b[0m\n",
      "File \u001b[1;32mparsers.pyx:891\u001b[0m, in \u001b[0;36mpandas._libs.parsers.TextReader._check_tokenize_status\u001b[1;34m()\u001b[0m\n",
      "File \u001b[1;32mparsers.pyx:2053\u001b[0m, in \u001b[0;36mpandas._libs.parsers.raise_parser_error\u001b[1;34m()\u001b[0m\n",
      "File \u001b[1;32m<frozen codecs>:322\u001b[0m, in \u001b[0;36mdecode\u001b[1;34m(self, input, final)\u001b[0m\n",
      "\u001b[1;31mUnicodeDecodeError\u001b[0m: 'utf-8' codec can't decode byte 0xe3 in position 14: invalid continuation byte"
     ]
    }
   ],
   "source": []
  },
  {
   "cell_type": "code",
   "execution_count": null,
   "id": "bc219c2f-7688-40ed-aac3-788b4ff22b10",
   "metadata": {},
   "outputs": [],
   "source": []
  },
  {
   "cell_type": "code",
   "execution_count": null,
   "id": "cc9ec25e-243c-43e3-8eb6-671e64d7676f",
   "metadata": {},
   "outputs": [],
   "source": [
    "#iporting the reggression library\n",
    "from sklearn.linear_model import LinearRegression\n",
    "\n",
    "#Create a Linear regresssion pbject/model using the existing data \n",
    "lmodel = LinearRegression()\n",
    "lmodel"
   ]
  },
  {
   "cell_type": "code",
   "execution_count": null,
   "id": "2a5cc110-f7a7-42cc-a3b0-0660686418f1",
   "metadata": {},
   "outputs": [],
   "source": [
    "#Extracting the features to be used in the prediction\n",
    "x = df[['total_bill']]\n",
    "y = df[['tip']]\n",
    "\n",
    "#Fit the existing data into the regression object/model\n",
    "lmodel.fit(x,y)"
   ]
  },
  {
   "cell_type": "code",
   "execution_count": null,
   "id": "6d2f7e1c-5d0c-41a0-b8ab-3b95fe6f014f",
   "metadata": {},
   "outputs": [],
   "source": [
    "#Predict values (tips)"
   ]
  }
 ],
 "metadata": {
  "kernelspec": {
   "display_name": "Python 3 (ipykernel)",
   "language": "python",
   "name": "python3"
  },
  "language_info": {
   "codemirror_mode": {
    "name": "ipython",
    "version": 3
   },
   "file_extension": ".py",
   "mimetype": "text/x-python",
   "name": "python",
   "nbconvert_exporter": "python",
   "pygments_lexer": "ipython3",
   "version": "3.12.7"
  }
 },
 "nbformat": 4,
 "nbformat_minor": 5
}
